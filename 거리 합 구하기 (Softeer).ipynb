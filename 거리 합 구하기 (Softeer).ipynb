{
 "cells": [
  {
   "cell_type": "code",
   "execution_count": 11,
   "id": "ec9df530",
   "metadata": {
    "scrolled": true
   },
   "outputs": [
    {
     "name": "stdout",
     "output_type": "stream",
     "text": [
      "4\n",
      "1 2 1\n",
      "2 3 2\n",
      "3 4 4\n"
     ]
    }
   ],
   "source": [
    "N = int(input())\n",
    "node = [[] for _ in range(N+1)]\n",
    "\n",
    "for i in range(N-1):\n",
    "    x,y,t = map(int, input().split())\n",
    "    node[x].append([y,t])\n",
    "    node[y].append([x,t])"
   ]
  },
  {
   "cell_type": "code",
   "execution_count": 10,
   "id": "98c7c201",
   "metadata": {},
   "outputs": [
    {
     "data": {
      "text/plain": [
       "[[], [[2, 1]], [[1, 1], [3, 2]], [[2, 2], [4, 4]], [[3, 4]]]"
      ]
     },
     "execution_count": 10,
     "metadata": {},
     "output_type": "execute_result"
    }
   ],
   "source": [
    "node"
   ]
  },
  {
   "cell_type": "code",
   "execution_count": null,
   "id": "c3e65abc",
   "metadata": {},
   "outputs": [],
   "source": [
    "result = []\n",
    "for i in range(1, N+1):\n",
    "    tmp = []\n",
    "    for j in range(1, N+1):\n",
    "        if i == j:\n",
    "            tmp.append(0)\n",
    "        else:\n",
    "            "
   ]
  }
 ],
 "metadata": {
  "kernelspec": {
   "display_name": "Python 3 (ipykernel)",
   "language": "python",
   "name": "python3"
  },
  "language_info": {
   "codemirror_mode": {
    "name": "ipython",
    "version": 3
   },
   "file_extension": ".py",
   "mimetype": "text/x-python",
   "name": "python",
   "nbconvert_exporter": "python",
   "pygments_lexer": "ipython3",
   "version": "3.9.7"
  },
  "varInspector": {
   "cols": {
    "lenName": 16,
    "lenType": 16,
    "lenVar": 40
   },
   "kernels_config": {
    "python": {
     "delete_cmd_postfix": "",
     "delete_cmd_prefix": "del ",
     "library": "var_list.py",
     "varRefreshCmd": "print(var_dic_list())"
    },
    "r": {
     "delete_cmd_postfix": ") ",
     "delete_cmd_prefix": "rm(",
     "library": "var_list.r",
     "varRefreshCmd": "cat(var_dic_list()) "
    }
   },
   "types_to_exclude": [
    "module",
    "function",
    "builtin_function_or_method",
    "instance",
    "_Feature"
   ],
   "window_display": false
  }
 },
 "nbformat": 4,
 "nbformat_minor": 5
}
