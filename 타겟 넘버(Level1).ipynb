{
 "cells": [
  {
   "cell_type": "code",
   "execution_count": 11,
   "id": "18529c18",
   "metadata": {},
   "outputs": [],
   "source": [
    "numbers = [1,1,1,1,1,1,1,1,1,1,1,1,1,1,1,1,1,1,1,1,1,1,1,1,1,1,1,1,1,1,1,1,1,1]\n",
    "target = 3\n",
    "answer=0"
   ]
  },
  {
   "cell_type": "markdown",
   "id": "cef3dc1b",
   "metadata": {},
   "source": [
    "처음에는 각자 부호가 다른 두개가 들어와야됨"
   ]
  },
  {
   "cell_type": "code",
   "execution_count": 2,
   "id": "bc2e56f7",
   "metadata": {},
   "outputs": [],
   "source": [
    "# tree=[]\n",
    "# tree.append(numbers[0])\n",
    "# tree.append(-numbers[0])\n",
    "# tree"
   ]
  },
  {
   "cell_type": "code",
   "execution_count": 3,
   "id": "2259da28",
   "metadata": {},
   "outputs": [],
   "source": [
    "# tree.append(tree[0]+numbers[1])\n",
    "# tree.append(tree[0]-numbers[1])\n",
    "# tree.append(tree[1]+numbers[1])\n",
    "# tree.append(tree[1]-numbers[1])"
   ]
  },
  {
   "cell_type": "code",
   "execution_count": 4,
   "id": "79da1e62",
   "metadata": {},
   "outputs": [],
   "source": [
    "# del tree[0]\n",
    "# del tree[1]"
   ]
  },
  {
   "cell_type": "code",
   "execution_count": 5,
   "id": "0da64eb6",
   "metadata": {},
   "outputs": [],
   "source": [
    "# tree"
   ]
  },
  {
   "cell_type": "code",
   "execution_count": 12,
   "id": "b214e2d5",
   "metadata": {},
   "outputs": [
    {
     "name": "stderr",
     "output_type": "stream",
     "text": [
      "  0%|                                                                                            | 0/4 [00:25<?, ?it/s]\n"
     ]
    },
    {
     "ename": "KeyboardInterrupt",
     "evalue": "",
     "output_type": "error",
     "traceback": [
      "\u001b[1;31m---------------------------------------------------------------------------\u001b[0m",
      "\u001b[1;31mKeyboardInterrupt\u001b[0m                         Traceback (most recent call last)",
      "Input \u001b[1;32mIn [12]\u001b[0m, in \u001b[0;36m<cell line: 6>\u001b[1;34m()\u001b[0m\n\u001b[0;32m      7\u001b[0m t_len \u001b[38;5;241m=\u001b[39m \u001b[38;5;28mlen\u001b[39m(tree)\n\u001b[0;32m      9\u001b[0m \u001b[38;5;28;01mfor\u001b[39;00m leaf \u001b[38;5;129;01min\u001b[39;00m tree:\n\u001b[1;32m---> 10\u001b[0m     \u001b[43mtree\u001b[49m\u001b[38;5;241m.\u001b[39mappend(leaf \u001b[38;5;241m+\u001b[39m numbers[num_index])\n\u001b[0;32m     11\u001b[0m     tree\u001b[38;5;241m.\u001b[39mappend(leaf \u001b[38;5;241m-\u001b[39m numbers[num_index])\n",
      "\u001b[1;31mKeyboardInterrupt\u001b[0m: "
     ]
    }
   ],
   "source": [
    "import tqdm\n",
    "\n",
    "n_len = len(numbers)\n",
    "tree = [numbers[0], -numbers[0]]\n",
    "\n",
    "for num_index in tqdm.tqdm(range(1,n_len)):\n",
    "    t_len = len(tree)\n",
    "    \n",
    "    for leaf in tree:\n",
    "        tree.append(leaf + numbers[num_index])\n",
    "        tree.append(leaf - numbers[num_index])\n",
    "    \n",
    "    for i in range(t_len):\n",
    "        del tree[0]"
   ]
  },
  {
   "cell_type": "code",
   "execution_count": 7,
   "id": "a1c1f272",
   "metadata": {},
   "outputs": [
    {
     "name": "stderr",
     "output_type": "stream",
     "text": [
      "100%|██████████████████████████████████████████████████████████████████████████████████████████████████████████████████████████| 4/4 [00:00<?, ?it/s]\n"
     ]
    }
   ],
   "source": [
    "import tqdm\n",
    "n_len = len(numbers)\n",
    "tree = [numbers[0], -numbers[0]]\n",
    "\n",
    "for num_index in tqdm.tqdm(range(1,n_len)):\n",
    "    tmp=[]\n",
    "    \n",
    "    for leaf in tree:\n",
    "        tmp.append(leaf + numbers[num_index])\n",
    "        tmp.append(leaf - numbers[num_index])\n",
    "    \n",
    "    tree=tmp\n",
    "\n",
    "for leaf in tree:\n",
    "    if leaf == target:\n",
    "        answer += 1"
   ]
  },
  {
   "cell_type": "code",
   "execution_count": 21,
   "id": "0369b7c9",
   "metadata": {},
   "outputs": [
    {
     "data": {
      "text/plain": [
       "5"
      ]
     },
     "execution_count": 21,
     "metadata": {},
     "output_type": "execute_result"
    }
   ],
   "source": [
    "answer"
   ]
  },
  {
   "cell_type": "code",
   "execution_count": 12,
   "id": "6d25048f",
   "metadata": {},
   "outputs": [],
   "source": [
    "def solution(numbers, target):\n",
    "    answer = 0\n",
    "    n_len = len(numbers)\n",
    "    tree = [numbers[0], -numbers[0]]\n",
    "\n",
    "    for num_index in range(1,n_len):\n",
    "        tmp=[]\n",
    "\n",
    "        for leaf in tree:\n",
    "            tmp.append(leaf + numbers[num_index])\n",
    "            tmp.append(leaf - numbers[num_index])\n",
    "\n",
    "        tree=tmp\n",
    "\n",
    "    for leaf in tree:\n",
    "        if leaf == target:\n",
    "            answer += 1\n",
    "    return answer"
   ]
  },
  {
   "cell_type": "code",
   "execution_count": null,
   "id": "f9fd8fdd",
   "metadata": {},
   "outputs": [],
   "source": [
    "%time solution(numbers, target)"
   ]
  },
  {
   "cell_type": "code",
   "execution_count": null,
   "id": "a97187f4",
   "metadata": {},
   "outputs": [],
   "source": [
    "def solution(numbers, target):\n",
    "    \n",
    "    def find_target(numbers, target, result):\n",
    "        count = 0\n",
    "        for sign in [1, -1]:             \n",
    "            num = sign * numbers[0]            \n",
    "            if len(numbers) == 1:\n",
    "                count += (result + num == target)                \n",
    "            else:\n",
    "                count += find_target(numbers[1:], target, result + num)\n",
    "        return count\n",
    "    \n",
    "    return find_target(numbers, target, 0)"
   ]
  },
  {
   "cell_type": "code",
   "execution_count": null,
   "id": "6ed36b48",
   "metadata": {},
   "outputs": [],
   "source": [
    "%time solution(numbers, target)"
   ]
  },
  {
   "cell_type": "code",
   "execution_count": null,
   "id": "ae94f095",
   "metadata": {},
   "outputs": [],
   "source": []
  }
 ],
 "metadata": {
  "kernelspec": {
   "display_name": "Python 3 (ipykernel)",
   "language": "python",
   "name": "python3"
  },
  "language_info": {
   "codemirror_mode": {
    "name": "ipython",
    "version": 3
   },
   "file_extension": ".py",
   "mimetype": "text/x-python",
   "name": "python",
   "nbconvert_exporter": "python",
   "pygments_lexer": "ipython3",
   "version": "3.9.7"
  },
  "toc": {
   "base_numbering": 1,
   "nav_menu": {},
   "number_sections": true,
   "sideBar": true,
   "skip_h1_title": false,
   "title_cell": "Table of Contents",
   "title_sidebar": "Contents",
   "toc_cell": false,
   "toc_position": {},
   "toc_section_display": true,
   "toc_window_display": false
  }
 },
 "nbformat": 4,
 "nbformat_minor": 5
}
