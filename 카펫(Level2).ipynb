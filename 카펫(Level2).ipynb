{
 "cells": [
  {
   "cell_type": "code",
   "execution_count": 41,
   "id": "761d2b21",
   "metadata": {},
   "outputs": [],
   "source": []
  },
  {
   "cell_type": "code",
   "execution_count": 55,
   "id": "59254517",
   "metadata": {},
   "outputs": [],
   "source": [
    "brown = 24\n",
    "yellow =24"
   ]
  },
  {
   "cell_type": "code",
   "execution_count": 56,
   "id": "c73cebef",
   "metadata": {},
   "outputs": [],
   "source": [
    "area = brown + yellow"
   ]
  },
  {
   "cell_type": "code",
   "execution_count": 62,
   "id": "0ca8e154",
   "metadata": {},
   "outputs": [],
   "source": [
    "factors = []\n",
    "for i in range(1,int(area**0.5)+1):\n",
    "    if area%i == 0:\n",
    "        factors.append([int(area/i),i])"
   ]
  },
  {
   "cell_type": "code",
   "execution_count": 63,
   "id": "49460949",
   "metadata": {
    "scrolled": true
   },
   "outputs": [
    {
     "data": {
      "text/plain": [
       "[[48, 1], [24, 2], [16, 3], [12, 4], [8, 6]]"
      ]
     },
     "execution_count": 63,
     "metadata": {},
     "output_type": "execute_result"
    }
   ],
   "source": [
    "factors"
   ]
  },
  {
   "cell_type": "code",
   "execution_count": 47,
   "id": "af1922c5",
   "metadata": {},
   "outputs": [
    {
     "name": "stdout",
     "output_type": "stream",
     "text": [
      "[3, 3]\n"
     ]
    }
   ],
   "source": [
    "for f in factors:\n",
    "    if brown == f[0]*2 +(f[1]-2)*2:\n",
    "        print(f)"
   ]
  },
  {
   "cell_type": "code",
   "execution_count": 49,
   "id": "4ce1ce75",
   "metadata": {},
   "outputs": [],
   "source": [
    "def solution(brown, yellow):\n",
    "    area = brown + yellow\n",
    "    factors = []\n",
    "    for i in range(1,int(area**0.5)+1):\n",
    "        if area % i == 0:\n",
    "            factors.append([int(area/i),i])\n",
    "    for f in factors:\n",
    "        if brown == f[0]*2 +(f[1]-2)*2:\n",
    "            return f"
   ]
  },
  {
   "cell_type": "code",
   "execution_count": 52,
   "id": "17e17d23",
   "metadata": {},
   "outputs": [
    {
     "data": {
      "text/plain": [
       "[8, 6]"
      ]
     },
     "execution_count": 52,
     "metadata": {},
     "output_type": "execute_result"
    }
   ],
   "source": [
    "brown = 24\n",
    "yellow = 24\n",
    "solution(brown, yellow)"
   ]
  },
  {
   "cell_type": "code",
   "execution_count": null,
   "id": "5d0e3a2f",
   "metadata": {},
   "outputs": [],
   "source": []
  }
 ],
 "metadata": {
  "kernelspec": {
   "display_name": "Python 3 (ipykernel)",
   "language": "python",
   "name": "python3"
  },
  "language_info": {
   "codemirror_mode": {
    "name": "ipython",
    "version": 3
   },
   "file_extension": ".py",
   "mimetype": "text/x-python",
   "name": "python",
   "nbconvert_exporter": "python",
   "pygments_lexer": "ipython3",
   "version": "3.9.7"
  },
  "varInspector": {
   "cols": {
    "lenName": 16,
    "lenType": 16,
    "lenVar": 40
   },
   "kernels_config": {
    "python": {
     "delete_cmd_postfix": "",
     "delete_cmd_prefix": "del ",
     "library": "var_list.py",
     "varRefreshCmd": "print(var_dic_list())"
    },
    "r": {
     "delete_cmd_postfix": ") ",
     "delete_cmd_prefix": "rm(",
     "library": "var_list.r",
     "varRefreshCmd": "cat(var_dic_list()) "
    }
   },
   "types_to_exclude": [
    "module",
    "function",
    "builtin_function_or_method",
    "instance",
    "_Feature"
   ],
   "window_display": false
  }
 },
 "nbformat": 4,
 "nbformat_minor": 5
}
