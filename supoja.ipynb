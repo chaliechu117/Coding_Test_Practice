{
 "cells": [
  {
   "cell_type": "code",
   "execution_count": 1,
   "id": "3d8b57ad",
   "metadata": {},
   "outputs": [],
   "source": [
    "answers=[1,3,2,4,3,3,3,3,3,3,3,3,3,3,3,3,3,3,3,3,3,2,4,3,3,3,3,3,3,3,3,3,3,3,3,3,3,3,3,3,2,4,3,3,3,3,3,3,3,3,3,3,3,3,3,3,3,3,3,2,4,3,3,3,3,3,3,3,3,3,3,3,3,3,3,3,3,3,2,4,3,3,3,3,3,3,3,3,3,3,3,3,3,3,3,3,3,2,4,3,3,3,3,3,3,3,3,3,3,3,3,3,3,3,3,3,2,4,3,3,3,3,3,3,3,3,3,3,3,3,3,3,3,3,3,1,3,2,4,3,3,3,3,3,3,3,3,3,3,3,3,3,3,3,3,3,2,4,3,3,3,3,3,3,3,3,3,3,3,3,3,3,3,3,3,2,4,3,3,3,3,3,3,3,3,3,3,3,3,3,3,3,3,3,2,4,3,3,3,3,3,3,3,3,3,3,3,3,3,3,3,3,3,2,4,3,3,3,3,3,3,3,3,3,3,3,3,3,3,3,3,3,2,4,3,3,3,3,3,3,3,3,3,3,3,3,3,3,3,3,3,2,4,3,3,3,3,3,3,3,3,3,3,3,3,3,3,3,3,3,1,3,2,4,3,3,3,3,3,3,3,3,3,3,3,3,3,3,3,3,3,2,4,3,3,3,3,3,3,3,3,3,3,3,3,3,3,3,3,3,2,4,3,3,3,3,3,3,3,3,3,3,3,3,3,3,3,3,3,2,4,3,3,3,3,3,3,3,3,3,3,3,3,3,3,3,3,3,2,4,3,3,3,3,3,3,3,3,3,3,3,3,3,3,3,3,3,2,4,3,3,3,3,3,3,3,3,3,3,3,3,3,3,3,3,3,2,4,3,3,3,3,3,3,3,3,3,3,3,3,3,3,3,3,3,1,3,2,4,3,3,3,3,3,3,3,3,3,3,3,3,3,3,3,3,3,2,4,3,3,3,3,3,3,3,3,3,3,3,3,3,3,3,3,3,2,4,3,3,3,3,3,3,3,3,3,3,3,3,3,3,3,3,3,2,4,3,3,3,3,3,3,3,3,3,3,3,3,3,3,3,3,3,2,4,3,3,3,3,3,3,3,3,3,3,3,3,3,3,3,3,3,2,4,3,3,3,3,3,3,3,3,3,3,3,3,3,3,3,3,3,2,4,3,3,3,3,3,3,3,3,3,3,3,3,3,3,3,3,3,1,3,2,4,3,3,3,3,3,3,3,3,3,3,3,3,3,3,3,3,3,2,4,3,3,3,3,3,3,3,3,3,3,3,3,3,3,3,3,3,2,4,3,3,3,3,3,3,3,3,3,3,3,3,3,3,3,3,3,2,4,3,3,3,3,3,3,3,3,3,3,3,3,3,3,3,3,3,2,4,3,3,3,3,3,3,3,3,3,3,3,3,3,3,3,3,3,2,4,3,3,3,3,3,3,3,3,3,3,3,3,3,3,3,3,3,2,4,3,3,3,3,3,3,3,3,3,3,3,3,3,3,3,3,3,1,3,2,4,3,3,3,3,3,3,3,3,3,3,3,3,3,3,3,3,3,2,4,3,3,3,3,3,3,3,3,3,3,3,3,3,3,3,3,3,2,4,3,3,3,3,3,3,3,3,3,3,3,3,3,3,3,3,3,2,4,3,3,3,3,3,3,3,3,3,3,3,3,3,3,3,3,3,2,4,3,3,3,3,3,3,3,3,3,3,3,3,3,3,3,3,3,2,4,3,3,3,3,3,3,3,3,3,3,3,3,3,3,3,3,3,2,4,3,3,3,3,3,3,3,3,3,3,3,3,3,3,3,3,3,1,3,2,4,3,3,3,3,3,3,3,3,3,3,3,3,3,3,3,3,3,2,4,3,3,3,3,3,3,3,3,3,3,3,3,3,3,3,3,3,2,4,3,3,3,3,3,3,3,3,3,3,3,3,3,3,3,3,3,2,4,3,3,3,3,3,3,3,3,3,3,3,3,3,3,3,3,3,2,4,3,3,3,3,3,3,3,3,3,3,3,3,3,3,3,3,3,2,4,3,3,3,3,3,3,3,3,3,3,3,3,3,3,3,3,3,2,4,3,3,3,3,3,3,3,3,3,3,3,3,3,3,3,3,3,1,3,2,4,3,3,3,3,3,3,3,3,3,3,3,3,3,3,3,3,3,2,4,3,3,3,3,3,3,3,3,3,3,3,3,3,3,3,3,3,2,4,3,3,3,3,3,3,3,3,3,3,3,3,3,3,3,3,3,2,4,3,3,3,3,3,3,3,3,3,3,3,3,3,3,3,3,3,2,4,3,3,3,3,3,3,3,3,3,3,3,3,3,3,3,3,3,2,4,3,3,3,3,3,3,3,3,3,3,3,3,3,3,3,3,3,2,4,3,3,3,3,3,3,3,3,3,3,3,3,3,3,3,3,3,1,3,2,4,3,3,3,3,3,3,3,3,3,3,3,3,3,3,3,3,3,2,4,3,3,3,3,3,3,3,3,3,3,3,3,3,3,3,3,3,2,4,3,3,3,3,3,3,3,3,3,3,3,3,3,3,3,3,3,2,4,3,3,3,3,3,3,3,3,3,3,3,3,3,3,3,3,3,2,4,3,3,3,3,3,3,3,3,3,3,3,3,3,3,3,3,3,2,4,3,3,3,3,3,3,3,3,3,3,3,3,3,3,3,3,3,2,4,3,3,3,3,3,3,3,3,3,3,3,3,3,3,3,3,3,1,3,2,4,3,3,3,3,3,3,3,3,3,3,3,3,3,3,3,3,3,2,4,3,3,3,3,3,3,3,3,3,3,3,3,3,3,3,3,3,2,4,3,3,3,3,3,3,3,3,3,3,3,3,3,3,3,3,3,2,4,3,3,3,3,3,3,3,3,3,3,3,3,3,3,3,3,3,2,4,3,3,3,3,3,3,3,3,3,3,3,3,3,3,3,3,3,2,4,3,3,3,3,3,3,3,3,3,3,3,3,3,3,3,3,3,2,4,3,3,3,3,3,3,3,3,3,3,3,3,3,3,3,3,3,1,3,2,4,3,3,3,3,3,3,3,3,3,3,3,3,3,3,3,3,3,2,4,3,3,3,3,3,3,3,3,3,3,3,3,3,3,3,3,3,2,4,3,3,3,3,3,3,3,3,3,3,3,3,3,3,3,3,3,2,4,3,3,3,3,3,3,3,3,3,3,3,3,3,3,3,3,3,2,4,3,3,3,3,3,3,3,3,3,3,3,3,3,3,3,3,3,2,4,3,3,3,3,3,3,3,3,3,3,3,3,3,3,3,3,3,2,4,3,3,3,3,3,3,3,3,3,3,3,3,3,3,3,3,3,1,3,2,4,3,3,3,3,3,3,3,3,3,3,3,3,3,3,3,3,3,2,4,3,3,3,3,3,3,3,3,3,3,3,3,3,3,3,3,3,2,4,3,3,3,3,3,3,3,3,3,3,3,3,3,3,3,3,3,2,4,3,3,3,3,3,3,3,3,3,3,3,3,3,3,3,3,3,2,4,3,3,3,3,3,3,3,3,3,3,3,3,3,3,3,3,3,2,4,3,3,3,3,3,3,3,3,3,3,3,3,3,3,3,3,3,2,4,3,3,3,3,3,3,3,3,3,3,3,3,3,3,3,3,3,1,3,2,4,3,3,3,3,3,3,3,3,3,3,3,3,3,3,3,3,3,2,4,3,3,3,3,3,3,3,3,3,3,3,3,3,3,3,3,3,2,4,3,3,3,3,3,3,3,3,3,3,3,3,3,3,3,3,3,2,4,3,3,3,3,3,3,3,3,3,3,3,3,3,3,3,3,3,2,4,3,3,3,3,3,3,3,3,3,3,3,3,3,3,3,3,3,2,4,3,3,3,3,3,3,3,3,3,3,3,3,3,3,3,3,3,2,4,3,3,3,3,3,3,3,3,3,3,3,3,3,3,3,3,3,1,3,2,4,3,3,3,3,3,3,3,3,3,3,3,3,3,3,3,3,3,2,4,3,3,3,3,3,3,3,3,3,3,3,3,3,3,3,3,3,2,4,3,3,3,3,3,3,3,3,3,3,3,3,3,3,3,3,3,2,4,3,3,3,3,3,3,3,3,3,3,3,3,3,3,3,3,3,2,4,3,3,3,3,3,3,3,3,3,3,3,3,3,3,3,3,3,2,4,3,3,3,3,3,3,3,3,3,3,3,3,3,3,3,3,3,2,4,3,3,3,3,3,3,3,3,3,3,3,3,3,3,3,3,3,1,3,2,4,3,3,3,3,3,3,3,3,3,3,3,3,3,3,3,3,3,2,4,3,3,3,3,3,3,3,3,3,3,3,3,3,3,3,3,3,2,4,3,3,3,3,3,3,3,3,3,3,3,3,3,3,3,3,3,2,4,3,3,3,3,3,3,3,3,3,3,3,3,3,3,3,3,3,2,4,3,3,3,3,3,3,3,3,3,3,3,3,3,3,3,3,3,2,4,3,3,3,3,3,3,3,3,3,3,3,3,3,3,3,3,3,2,4,3,3,3,3,3,3,3,3,3,3,3,3,3,3,3,3,3,1,3,2,4,3,3,3,3,3,3,3,3,3,3,3,3,3,3,3,3,3,2,4,3,3,3,3,3,3,3,3,3,3,3,3,3,3,3,3,3,2,4,3,3,3,3,3,3,3,3,3,3,3,3,3,3,3,3,3,2,4,3,3,3,3,3,3,3,3,3,3,3,3,3,3,3,3,3,2,4,3,3,3,3,3,3,3,3,3,3,3,3,3,3,3,3,3,2,4,3,3,3,3,3,3,3,3,3,3,3,3,3,3,3,3,3,2,4,3,3,3,3,3,3,3,3,3,3,3,3,3,3,3,3,3,1,3,2,4,3,3,3,3,3,3,3,3,3,3,3,3,3,3,3,3,3,2,4,3,3,3,3,3,3,3,3,3,3,3,3,3,3,3,3,3,2,4,3,3,3,3,3,3,3,3,3,3,3,3,3,3,3,3,3,2,4,3,3,3,3,3,3,3,3,3,3,3,3,3,3,3,3,3,2,4,3,3,3,3,3,3,3,3,3,3,3,3,3,3,3,3,3,2,4,3,3,3,3,3,3,3,3,3,3,3,3,3,3,3,3,3,2,4,3,3,3,3,3,3,3,3,3,3,3,3,3,3,3,3,3,1,3,2,4,3,3,3,3,3,3,3,3,3,3,3,3,3,3,3,3,3,2,4,3,3,3,3,3,3,3,3,3,3,3,3,3,3,3,3,3,2,4,3,3,3,3,3,3,3,3,3,3,3,3,3,3,3,3,3,2,4,3,3,3,3,3,3,3,3,3,3,3,3,3,3,3,3,3,2,4,3,3,3,3,3,3,3,3,3,3,3,3,3,3,3,3,3,2,4,3,3,3,3,3,3,3,3,3,3,3,3,3,3,3,3,3,2,4,3,3,3,3,3,3,3,3,3,3,3,3,3,3,3,3,3]\n",
    "answer=[]\n",
    "length=len(answers)\n",
    "people=[]"
   ]
  },
  {
   "cell_type": "code",
   "execution_count": 2,
   "id": "bf33c171",
   "metadata": {},
   "outputs": [
    {
     "data": {
      "text/plain": [
       "504"
      ]
     },
     "execution_count": 2,
     "metadata": {},
     "output_type": "execute_result"
    }
   ],
   "source": [
    "# 수포자1\n",
    "su_1_raw = [1, 2, 3, 4, 5]\n",
    "su_1 = [1,2,3,4,5]\n",
    "while len(su_1) <= length:\n",
    "    su_1 = su_1 + su_1_raw\n",
    "su_1=su_1[:length]\n",
    "su_1_same = [i for i, j in zip(su_1, answers) if i == j]\n",
    "people.append(len(su_1_same))\n",
    "len(su_1_same)"
   ]
  },
  {
   "cell_type": "code",
   "execution_count": 3,
   "id": "7047f36f",
   "metadata": {},
   "outputs": [
    {
     "data": {
      "text/plain": [
       "504"
      ]
     },
     "execution_count": 3,
     "metadata": {},
     "output_type": "execute_result"
    }
   ],
   "source": [
    "# 수포자 2\n",
    "su_2_raw = [2, 1, 2, 3, 2]\n",
    "su_2 = [2, 1, 2, 3, 2]\n",
    "while len(su_2) <= length:\n",
    "    su_2 = su_2 + su_2_raw\n",
    "su_2=su_2[:length]\n",
    "su_2_same = [i for i, j in zip(su_2, answers) if i == j]\n",
    "people.append(len(su_2_same))\n",
    "len(su_2_same)"
   ]
  },
  {
   "cell_type": "code",
   "execution_count": 4,
   "id": "f0dcfdbd",
   "metadata": {},
   "outputs": [
    {
     "data": {
      "text/plain": [
       "477"
      ]
     },
     "execution_count": 4,
     "metadata": {},
     "output_type": "execute_result"
    }
   ],
   "source": [
    "#수포자3\n",
    "su_3_raw = [3, 3, 1, 1, 2, 2, 4, 4, 5, 5]\n",
    "su_3 = [3, 3, 1, 1, 2, 2, 4, 4, 5, 5]\n",
    "while len(su_3) <= length:\n",
    "    su_3 = su_3 + su_3_raw\n",
    "su_3=su_3[:length]\n",
    "su_3_same = [i for i, j in zip(su_3, answers) if i == j]\n",
    "people.append(len(su_3_same))\n",
    "len(su_3_same)"
   ]
  },
  {
   "cell_type": "code",
   "execution_count": 5,
   "id": "c0672bc7",
   "metadata": {},
   "outputs": [
    {
     "data": {
      "text/plain": [
       "504"
      ]
     },
     "execution_count": 5,
     "metadata": {},
     "output_type": "execute_result"
    }
   ],
   "source": [
    "max_score = max(people)\n",
    "max_score"
   ]
  },
  {
   "cell_type": "code",
   "execution_count": 6,
   "id": "195349a6",
   "metadata": {},
   "outputs": [],
   "source": [
    "if max_score == len(su_1_same):\n",
    "    answer.append(1)\n",
    "if max_score == len(su_1_same):\n",
    "    answer.append(2)\n",
    "if max_score == len(su_1_same):\n",
    "    answer.append(3)"
   ]
  },
  {
   "cell_type": "code",
   "execution_count": 7,
   "id": "f6af78ae",
   "metadata": {},
   "outputs": [
    {
     "data": {
      "text/plain": [
       "[1, 2, 3]"
      ]
     },
     "execution_count": 7,
     "metadata": {},
     "output_type": "execute_result"
    }
   ],
   "source": [
    "answer"
   ]
  },
  {
   "cell_type": "code",
   "execution_count": null,
   "id": "d036c243",
   "metadata": {},
   "outputs": [],
   "source": []
  },
  {
   "cell_type": "code",
   "execution_count": 8,
   "id": "b002e07d",
   "metadata": {},
   "outputs": [],
   "source": [
    "def solution(answers):\n",
    "    answer = []\n",
    "    length=len(answers)\n",
    "    people=[]\n",
    "    \n",
    "    # 수포자1\n",
    "    su_1 = [1,2,3,4,5]\n",
    "    while len(su_1) <= length:\n",
    "        su_1 = su_1 + su_1\n",
    "    su_1=su_1[:length]\n",
    "    su_1_same = [i for i, j in zip(su_1, answers) if i == j]\n",
    "    people.append(len(su_1_same))\n",
    "    \n",
    "    # 수포자 2\n",
    "    su_2 = [2, 1, 2, 3, 2, 4, 2, 5]\n",
    "    while len(su_2) <= length:\n",
    "        su_2 = su_2 + su_2\n",
    "    su_2=su_2[:length]\n",
    "    su_2_same = [i for i, j in zip(su_2, answers) if i == j]\n",
    "    people.append(len(su_2_same))\n",
    "    \n",
    "    #수포자3\n",
    "    su_3 = [3, 3, 1, 1, 2, 2, 4, 4, 5, 5]\n",
    "    while len(su_3) <= length:\n",
    "        su_3 = su_3 + su_3\n",
    "    su_3=su_3[:length]\n",
    "    su_3_same = [i for i, j in zip(su_3, answers) if i == j]\n",
    "    people.append(len(su_3_same))\n",
    "    \n",
    "    max_score = max(people)\n",
    "    \n",
    "    if max_score == len(su_1_same):\n",
    "        answer.append(1)\n",
    "    if max_score == len(su_2_same):\n",
    "        answer.append(2)\n",
    "    if max_score == len(su_3_same):\n",
    "        answer.append(3)\n",
    "    return answer"
   ]
  },
  {
   "cell_type": "code",
   "execution_count": 9,
   "id": "ebbcfcb1",
   "metadata": {},
   "outputs": [],
   "source": [
    "def solution2(answers):\n",
    "    predictions = [[1, 2, 3, 4, 5],\n",
    "                   [2, 1, 2, 3, 2, 4, 2, 5],\n",
    "                   [3, 3, 1, 1, 2, 2, 4, 4, 5, 5]]\n",
    "    scores = [0] * len(predictions)\n",
    "    \n",
    "    for i, answer in enumerate(answers):\n",
    "        for j, prediction in enumerate(predictions):\n",
    "            if answer == prediction[i % len(prediction)]:\n",
    "                scores[j] += 1\n",
    "\n",
    "    return [i + 1 for i, score in enumerate(scores) if score == max(scores)]"
   ]
  },
  {
   "cell_type": "code",
   "execution_count": 10,
   "id": "99059e2c",
   "metadata": {},
   "outputs": [
    {
     "name": "stdout",
     "output_type": "stream",
     "text": [
      "CPU times: total: 0 ns\n",
      "Wall time: 886 µs\n"
     ]
    },
    {
     "data": {
      "text/plain": [
       "[1]"
      ]
     },
     "execution_count": 10,
     "metadata": {},
     "output_type": "execute_result"
    }
   ],
   "source": [
    "%time solution(answers)"
   ]
  },
  {
   "cell_type": "code",
   "execution_count": 11,
   "id": "488bdb8f",
   "metadata": {},
   "outputs": [
    {
     "name": "stdout",
     "output_type": "stream",
     "text": [
      "CPU times: total: 0 ns\n",
      "Wall time: 2 ms\n"
     ]
    },
    {
     "data": {
      "text/plain": [
       "[1]"
      ]
     },
     "execution_count": 11,
     "metadata": {},
     "output_type": "execute_result"
    }
   ],
   "source": [
    "%time solution2(answers)"
   ]
  },
  {
   "cell_type": "code",
   "execution_count": 19,
   "id": "dbe34318",
   "metadata": {},
   "outputs": [],
   "source": [
    "def solution3(answers):\n",
    "    answer = []\n",
    "    s = [0, 0, 0]\n",
    "    \n",
    "    a_1 = [1, 2, 3, 4, 5]\n",
    "    a_2 = [2, 1, 2, 3, 2, 4, 2, 5]\n",
    "    a_3 = [3, 3, 1, 1, 2, 2, 4, 4, 5, 5]\n",
    "\n",
    "    for i in range(len(answers)):\n",
    "        if a_1[i%5] == answers[i]:\n",
    "            s[0] += 1\n",
    "        if a_2[i%8] == answers[i]:\n",
    "            s[1] += 1\n",
    "        if a_3[i%10] == answers[i]:\n",
    "            s[2] += 1     \n",
    "    if len(set(s)) == 3:\n",
    "        answer = [(s.index(max(s))+1)]\n",
    "    elif len(set(s)) == 2:\n",
    "        answer = [1, 2, 3]\n",
    "        if s.count(max(s)) == 2:\n",
    "            answer.remove(s.index(min(s)) + 1)    \n",
    "        else:\n",
    "            answer = [s.index(max(s))+1]\n",
    "    else:\n",
    "        answer = [1, 2, 3]\n",
    "    return answer"
   ]
  },
  {
   "cell_type": "code",
   "execution_count": 20,
   "id": "88d601c1",
   "metadata": {},
   "outputs": [
    {
     "data": {
      "text/plain": [
       "[1]"
      ]
     },
     "execution_count": 20,
     "metadata": {},
     "output_type": "execute_result"
    }
   ],
   "source": [
    "solution3(answers)"
   ]
  },
  {
   "cell_type": "code",
   "execution_count": null,
   "id": "a808271a",
   "metadata": {},
   "outputs": [],
   "source": []
  }
 ],
 "metadata": {
  "kernelspec": {
   "display_name": "Python 3 (ipykernel)",
   "language": "python",
   "name": "python3"
  },
  "language_info": {
   "codemirror_mode": {
    "name": "ipython",
    "version": 3
   },
   "file_extension": ".py",
   "mimetype": "text/x-python",
   "name": "python",
   "nbconvert_exporter": "python",
   "pygments_lexer": "ipython3",
   "version": "3.9.7"
  },
  "toc": {
   "base_numbering": 1,
   "nav_menu": {},
   "number_sections": true,
   "sideBar": true,
   "skip_h1_title": false,
   "title_cell": "Table of Contents",
   "title_sidebar": "Contents",
   "toc_cell": false,
   "toc_position": {},
   "toc_section_display": true,
   "toc_window_display": false
  }
 },
 "nbformat": 4,
 "nbformat_minor": 5
}
