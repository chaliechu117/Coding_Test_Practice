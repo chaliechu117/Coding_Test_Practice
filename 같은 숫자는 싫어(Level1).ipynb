{
 "cells": [
  {
   "cell_type": "code",
   "execution_count": 95,
   "id": "209348c3",
   "metadata": {},
   "outputs": [],
   "source": [
    "arr = [1,1,3,3,0,1,1]\n"
   ]
  },
  {
   "cell_type": "code",
   "execution_count": 97,
   "id": "4a7ec184",
   "metadata": {},
   "outputs": [],
   "source": [
    "def solution(arr):\n",
    "    answer = []\n",
    "    \n",
    "    for i in range(len(arr)):\n",
    "        if i == 0:\n",
    "            answer.append(arr[i])\n",
    "        elif arr[i] != arr[i-1]:\n",
    "            answer.append(arr[i])   \n",
    "    \n",
    "    return answer"
   ]
  },
  {
   "cell_type": "code",
   "execution_count": 98,
   "id": "6eeced5a",
   "metadata": {},
   "outputs": [
    {
     "data": {
      "text/plain": [
       "[1, 3, 0, 1]"
      ]
     },
     "execution_count": 98,
     "metadata": {},
     "output_type": "execute_result"
    }
   ],
   "source": [
    "solution(arr)"
   ]
  },
  {
   "cell_type": "code",
   "execution_count": null,
   "id": "bfa0412b",
   "metadata": {},
   "outputs": [],
   "source": []
  }
 ],
 "metadata": {
  "kernelspec": {
   "display_name": "Python 3 (ipykernel)",
   "language": "python",
   "name": "python3"
  },
  "language_info": {
   "codemirror_mode": {
    "name": "ipython",
    "version": 3
   },
   "file_extension": ".py",
   "mimetype": "text/x-python",
   "name": "python",
   "nbconvert_exporter": "python",
   "pygments_lexer": "ipython3",
   "version": "3.9.7"
  },
  "varInspector": {
   "cols": {
    "lenName": 16,
    "lenType": 16,
    "lenVar": 40
   },
   "kernels_config": {
    "python": {
     "delete_cmd_postfix": "",
     "delete_cmd_prefix": "del ",
     "library": "var_list.py",
     "varRefreshCmd": "print(var_dic_list())"
    },
    "r": {
     "delete_cmd_postfix": ") ",
     "delete_cmd_prefix": "rm(",
     "library": "var_list.r",
     "varRefreshCmd": "cat(var_dic_list()) "
    }
   },
   "types_to_exclude": [
    "module",
    "function",
    "builtin_function_or_method",
    "instance",
    "_Feature"
   ],
   "window_display": false
  }
 },
 "nbformat": 4,
 "nbformat_minor": 5
}
