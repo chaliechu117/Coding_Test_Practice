{
 "cells": [
  {
   "cell_type": "code",
   "execution_count": 1,
   "id": "ee90cdce",
   "metadata": {},
   "outputs": [],
   "source": [
    "def solution(n):\n",
    "    ans = 1\n",
    "    result = 1\n",
    "    while result < n:\n",
    "        result *= 2\n",
    "    return ans"
   ]
  },
  {
   "cell_type": "code",
   "execution_count": 3,
   "id": "ee02e2cf",
   "metadata": {},
   "outputs": [
    {
     "name": "stdout",
     "output_type": "stream",
     "text": [
      "1\n",
      "1\n",
      "1\n"
     ]
    }
   ],
   "source": [
    "print(solution(5))\n",
    "print(solution(6))\n",
    "print(solution(5000))"
   ]
  },
  {
   "cell_type": "code",
   "execution_count": 10,
   "id": "efd9e0a3",
   "metadata": {},
   "outputs": [],
   "source": [
    "n = 5000\n",
    "result = 1\n",
    "while True:\n",
    "    tmp = result * 2\n",
    "    if tmp > n:\n",
    "        break\n",
    "    result = tmp"
   ]
  },
  {
   "cell_type": "code",
   "execution_count": 12,
   "id": "82fd7fab",
   "metadata": {},
   "outputs": [],
   "source": [
    "answer = n - result + 1"
   ]
  },
  {
   "cell_type": "code",
   "execution_count": 13,
   "id": "68e3cf49",
   "metadata": {},
   "outputs": [
    {
     "data": {
      "text/plain": [
       "905"
      ]
     },
     "execution_count": 13,
     "metadata": {},
     "output_type": "execute_result"
    }
   ],
   "source": [
    "answer"
   ]
  },
  {
   "cell_type": "code",
   "execution_count": 14,
   "id": "f05d1e73",
   "metadata": {},
   "outputs": [
    {
     "data": {
      "text/plain": [
       "4096"
      ]
     },
     "execution_count": 14,
     "metadata": {},
     "output_type": "execute_result"
    }
   ],
   "source": [
    "result"
   ]
  },
  {
   "cell_type": "code",
   "execution_count": 16,
   "id": "60f57421",
   "metadata": {},
   "outputs": [
    {
     "data": {
      "text/plain": [
       "70.71067811865476"
      ]
     },
     "execution_count": 16,
     "metadata": {},
     "output_type": "execute_result"
    }
   ],
   "source": [
    "5000**0.5"
   ]
  },
  {
   "cell_type": "code",
   "execution_count": 25,
   "id": "370bd2f7",
   "metadata": {},
   "outputs": [
    {
     "data": {
      "text/plain": [
       "2187"
      ]
     },
     "execution_count": 25,
     "metadata": {},
     "output_type": "execute_result"
    }
   ],
   "source": [
    "3**7"
   ]
  },
  {
   "cell_type": "code",
   "execution_count": 39,
   "id": "4b241507",
   "metadata": {},
   "outputs": [
    {
     "data": {
      "text/plain": [
       "1.0"
      ]
     },
     "execution_count": 39,
     "metadata": {},
     "output_type": "execute_result"
    }
   ],
   "source": [
    "6/2%2"
   ]
  },
  {
   "cell_type": "code",
   "execution_count": 32,
   "id": "1898670b",
   "metadata": {},
   "outputs": [
    {
     "data": {
      "text/plain": [
       "125"
      ]
     },
     "execution_count": 32,
     "metadata": {},
     "output_type": "execute_result"
    }
   ],
   "source": [
    "2**7 - 3"
   ]
  },
  {
   "cell_type": "code",
   "execution_count": 40,
   "id": "8a752db6",
   "metadata": {},
   "outputs": [
    {
     "data": {
      "text/plain": [
       "2500.0"
      ]
     },
     "execution_count": 40,
     "metadata": {},
     "output_type": "execute_result"
    }
   ],
   "source": [
    "5000/2"
   ]
  },
  {
   "cell_type": "code",
   "execution_count": 41,
   "id": "a0277756",
   "metadata": {},
   "outputs": [
    {
     "data": {
      "text/plain": [
       "1250.0"
      ]
     },
     "execution_count": 41,
     "metadata": {},
     "output_type": "execute_result"
    }
   ],
   "source": [
    "2500/2"
   ]
  },
  {
   "cell_type": "code",
   "execution_count": 42,
   "id": "844e2c75",
   "metadata": {},
   "outputs": [
    {
     "data": {
      "text/plain": [
       "625.0"
      ]
     },
     "execution_count": 42,
     "metadata": {},
     "output_type": "execute_result"
    }
   ],
   "source": [
    "1250/2"
   ]
  },
  {
   "cell_type": "code",
   "execution_count": 43,
   "id": "7f98fccb",
   "metadata": {},
   "outputs": [
    {
     "data": {
      "text/plain": [
       "313.0"
      ]
     },
     "execution_count": 43,
     "metadata": {},
     "output_type": "execute_result"
    }
   ],
   "source": [
    "(625-1)/2"
   ]
  },
  {
   "cell_type": "code",
   "execution_count": 44,
   "id": "15766ff7",
   "metadata": {},
   "outputs": [
    {
     "data": {
      "text/plain": [
       "156.0"
      ]
     },
     "execution_count": 44,
     "metadata": {},
     "output_type": "execute_result"
    }
   ],
   "source": [
    "(313-1)/2"
   ]
  },
  {
   "cell_type": "code",
   "execution_count": 45,
   "id": "4d668ce7",
   "metadata": {},
   "outputs": [
    {
     "data": {
      "text/plain": [
       "78.0"
      ]
     },
     "execution_count": 45,
     "metadata": {},
     "output_type": "execute_result"
    }
   ],
   "source": [
    "156/2"
   ]
  },
  {
   "cell_type": "code",
   "execution_count": 46,
   "id": "32b9cd2f",
   "metadata": {},
   "outputs": [
    {
     "data": {
      "text/plain": [
       "39.0"
      ]
     },
     "execution_count": 46,
     "metadata": {},
     "output_type": "execute_result"
    }
   ],
   "source": [
    "78/2"
   ]
  },
  {
   "cell_type": "code",
   "execution_count": 47,
   "id": "e1d34f4e",
   "metadata": {},
   "outputs": [
    {
     "data": {
      "text/plain": [
       "19.0"
      ]
     },
     "execution_count": 47,
     "metadata": {},
     "output_type": "execute_result"
    }
   ],
   "source": [
    "(39-1)/2"
   ]
  },
  {
   "cell_type": "code",
   "execution_count": 48,
   "id": "4ab766e3",
   "metadata": {},
   "outputs": [
    {
     "data": {
      "text/plain": [
       "9.0"
      ]
     },
     "execution_count": 48,
     "metadata": {},
     "output_type": "execute_result"
    }
   ],
   "source": [
    "(19-1)/2"
   ]
  },
  {
   "cell_type": "code",
   "execution_count": 49,
   "id": "61bcfce4",
   "metadata": {},
   "outputs": [
    {
     "data": {
      "text/plain": [
       "4.0"
      ]
     },
     "execution_count": 49,
     "metadata": {},
     "output_type": "execute_result"
    }
   ],
   "source": [
    "(9-1)/2"
   ]
  },
  {
   "cell_type": "code",
   "execution_count": 50,
   "id": "36e4280d",
   "metadata": {},
   "outputs": [
    {
     "data": {
      "text/plain": [
       "2.0"
      ]
     },
     "execution_count": 50,
     "metadata": {},
     "output_type": "execute_result"
    }
   ],
   "source": [
    "4/2"
   ]
  },
  {
   "cell_type": "code",
   "execution_count": 51,
   "id": "f79c3c2d",
   "metadata": {},
   "outputs": [
    {
     "data": {
      "text/plain": [
       "1.0"
      ]
     },
     "execution_count": 51,
     "metadata": {},
     "output_type": "execute_result"
    }
   ],
   "source": [
    "2/2"
   ]
  },
  {
   "cell_type": "code",
   "execution_count": null,
   "id": "502464cc",
   "metadata": {},
   "outputs": [],
   "source": []
  },
  {
   "cell_type": "code",
   "execution_count": 52,
   "id": "24ae23f8",
   "metadata": {},
   "outputs": [
    {
     "data": {
      "text/plain": [
       "2.0"
      ]
     },
     "execution_count": 52,
     "metadata": {},
     "output_type": "execute_result"
    }
   ],
   "source": [
    "(5-1)/2"
   ]
  },
  {
   "cell_type": "code",
   "execution_count": 53,
   "id": "af75dde6",
   "metadata": {},
   "outputs": [
    {
     "data": {
      "text/plain": [
       "1.0"
      ]
     },
     "execution_count": 53,
     "metadata": {},
     "output_type": "execute_result"
    }
   ],
   "source": [
    "2/2"
   ]
  },
  {
   "cell_type": "code",
   "execution_count": 54,
   "id": "0133920a",
   "metadata": {},
   "outputs": [],
   "source": [
    "def soltion(n):\n",
    "    answer = 0\n",
    "    return answer"
   ]
  },
  {
   "cell_type": "code",
   "execution_count": 55,
   "id": "aa7a3dc9",
   "metadata": {},
   "outputs": [],
   "source": [
    "n = 5000"
   ]
  },
  {
   "cell_type": "code",
   "execution_count": 81,
   "id": "8b99d53c",
   "metadata": {},
   "outputs": [],
   "source": [
    "def div_2(n):\n",
    "    while n % 2 == 0:\n",
    "        n = int(n/2)\n",
    "    return n"
   ]
  },
  {
   "cell_type": "code",
   "execution_count": 82,
   "id": "ca567be8",
   "metadata": {},
   "outputs": [],
   "source": [
    "n=5000"
   ]
  },
  {
   "cell_type": "code",
   "execution_count": 83,
   "id": "d6b9933f",
   "metadata": {},
   "outputs": [],
   "source": [
    "answer = 0\n",
    "\n",
    "while n != 0:\n",
    "    n = div_2(n)\n",
    "    n -= 1\n",
    "    \n",
    "    answer += 1"
   ]
  },
  {
   "cell_type": "code",
   "execution_count": 84,
   "id": "d9d8599b",
   "metadata": {},
   "outputs": [
    {
     "data": {
      "text/plain": [
       "5"
      ]
     },
     "execution_count": 84,
     "metadata": {},
     "output_type": "execute_result"
    }
   ],
   "source": [
    "answer"
   ]
  },
  {
   "cell_type": "code",
   "execution_count": null,
   "id": "8d1181ed",
   "metadata": {},
   "outputs": [],
   "source": []
  }
 ],
 "metadata": {
  "kernelspec": {
   "display_name": "Python 3 (ipykernel)",
   "language": "python",
   "name": "python3"
  },
  "language_info": {
   "codemirror_mode": {
    "name": "ipython",
    "version": 3
   },
   "file_extension": ".py",
   "mimetype": "text/x-python",
   "name": "python",
   "nbconvert_exporter": "python",
   "pygments_lexer": "ipython3",
   "version": "3.9.7"
  },
  "varInspector": {
   "cols": {
    "lenName": 16,
    "lenType": 16,
    "lenVar": 40
   },
   "kernels_config": {
    "python": {
     "delete_cmd_postfix": "",
     "delete_cmd_prefix": "del ",
     "library": "var_list.py",
     "varRefreshCmd": "print(var_dic_list())"
    },
    "r": {
     "delete_cmd_postfix": ") ",
     "delete_cmd_prefix": "rm(",
     "library": "var_list.r",
     "varRefreshCmd": "cat(var_dic_list()) "
    }
   },
   "types_to_exclude": [
    "module",
    "function",
    "builtin_function_or_method",
    "instance",
    "_Feature"
   ],
   "window_display": false
  }
 },
 "nbformat": 4,
 "nbformat_minor": 5
}
