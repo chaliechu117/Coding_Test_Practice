{
 "cells": [
  {
   "cell_type": "code",
   "execution_count": 1,
   "id": "4bde0010",
   "metadata": {},
   "outputs": [],
   "source": [
    "nums=[3,1,2,3]\n"
   ]
  },
  {
   "cell_type": "code",
   "execution_count": 2,
   "id": "5190cd7b",
   "metadata": {},
   "outputs": [],
   "source": [
    "def solution(nums):\n",
    "    n = len(nums)/2\n",
    "    pok_dict= {i : '' for i in nums}\n",
    "    return min(len(pok_dict), n)"
   ]
  },
  {
   "cell_type": "code",
   "execution_count": 3,
   "id": "e4b281c7",
   "metadata": {},
   "outputs": [
    {
     "data": {
      "text/plain": [
       "2.0"
      ]
     },
     "execution_count": 3,
     "metadata": {},
     "output_type": "execute_result"
    }
   ],
   "source": [
    "solution(nums)"
   ]
  },
  {
   "cell_type": "code",
   "execution_count": 4,
   "id": "8284877e",
   "metadata": {},
   "outputs": [
    {
     "data": {
      "text/plain": [
       "2.0"
      ]
     },
     "execution_count": 4,
     "metadata": {},
     "output_type": "execute_result"
    }
   ],
   "source": [
    "n = len(nums)/2\n",
    "n"
   ]
  },
  {
   "cell_type": "code",
   "execution_count": 5,
   "id": "dfcc7bcf",
   "metadata": {},
   "outputs": [
    {
     "data": {
      "text/plain": [
       "2.0"
      ]
     },
     "execution_count": 5,
     "metadata": {},
     "output_type": "execute_result"
    }
   ],
   "source": [
    "solution(nums)"
   ]
  },
  {
   "cell_type": "code",
   "execution_count": 6,
   "id": "6ffde1cc",
   "metadata": {},
   "outputs": [],
   "source": [
    "dict={}\n",
    "for i in nums:\n",
    "    dict[hash(i)] = i"
   ]
  },
  {
   "cell_type": "code",
   "execution_count": 7,
   "id": "beae72ae",
   "metadata": {},
   "outputs": [
    {
     "data": {
      "text/plain": [
       "{3: 3, 1: 1, 2: 2}"
      ]
     },
     "execution_count": 7,
     "metadata": {},
     "output_type": "execute_result"
    }
   ],
   "source": [
    "dict"
   ]
  },
  {
   "cell_type": "code",
   "execution_count": 8,
   "id": "b20d609c",
   "metadata": {},
   "outputs": [
    {
     "data": {
      "text/plain": [
       "3"
      ]
     },
     "execution_count": 8,
     "metadata": {},
     "output_type": "execute_result"
    }
   ],
   "source": [
    "len(dict)"
   ]
  },
  {
   "cell_type": "code",
   "execution_count": 9,
   "id": "3f1ce1bb",
   "metadata": {},
   "outputs": [],
   "source": [
    "def solution(nums):\n",
    "    answer = 0\n",
    "    n = len(nums)/2\n",
    "    dict={}\n",
    "    for i in nums:\n",
    "        dict[hash(i)] = i\n",
    "    print(dict)\n",
    "    \n",
    "    if len(dict)>=n:\n",
    "        answer = n\n",
    "    else:\n",
    "        answer=len(dict)\n",
    "    return answer"
   ]
  },
  {
   "cell_type": "code",
   "execution_count": 10,
   "id": "19cdd35c",
   "metadata": {},
   "outputs": [
    {
     "name": "stdout",
     "output_type": "stream",
     "text": [
      "{3: 3, 1: 1, 2: 2}\n"
     ]
    },
    {
     "data": {
      "text/plain": [
       "2.0"
      ]
     },
     "execution_count": 10,
     "metadata": {},
     "output_type": "execute_result"
    }
   ],
   "source": [
    "solution(nums)"
   ]
  },
  {
   "cell_type": "code",
   "execution_count": 11,
   "id": "bbcf7d35",
   "metadata": {},
   "outputs": [],
   "source": [
    "def solution(nums):\n",
    "    answer = 0\n",
    "    n = len(nums)/2\n",
    "    dict={}\n",
    "    for i in nums:\n",
    "        dict[hash(i)] = i\n",
    "    if len(dict) <= n:\n",
    "        answer=n\n",
    "    else:\n",
    "        answer=len(dict)\n",
    "    return answer"
   ]
  },
  {
   "cell_type": "code",
   "execution_count": 12,
   "id": "2cab8189",
   "metadata": {},
   "outputs": [],
   "source": [
    "answer = 0\n",
    "n = len(nums)/2\n",
    "dict={}\n",
    "for i in nums:\n",
    "    dict[hash(i)] = i\n",
    "if len(dict) <= n:\n",
    "    answer=n\n",
    "else:\n",
    "    answer=len(dict)"
   ]
  },
  {
   "cell_type": "code",
   "execution_count": null,
   "id": "a03b2014",
   "metadata": {},
   "outputs": [],
   "source": []
  },
  {
   "cell_type": "code",
   "execution_count": null,
   "id": "071bd517",
   "metadata": {},
   "outputs": [],
   "source": []
  },
  {
   "cell_type": "code",
   "execution_count": null,
   "id": "b9906e7a",
   "metadata": {},
   "outputs": [],
   "source": []
  },
  {
   "cell_type": "code",
   "execution_count": null,
   "id": "98bf2a9b",
   "metadata": {},
   "outputs": [],
   "source": []
  },
  {
   "cell_type": "code",
   "execution_count": null,
   "id": "be595580",
   "metadata": {},
   "outputs": [],
   "source": []
  },
  {
   "cell_type": "code",
   "execution_count": 16,
   "id": "fa407bb2",
   "metadata": {},
   "outputs": [],
   "source": [
    "participant = [\"mislav\", \"stanko\", \"mislav\", \"ana\"]\n",
    "completion = [\"stanko\", \"ana\", \"mislav\"]"
   ]
  },
  {
   "cell_type": "code",
   "execution_count": 17,
   "id": "ccfb0030",
   "metadata": {},
   "outputs": [],
   "source": [
    "def solution(participant, completion):\n",
    "    answer = ''\n",
    "    temp=0\n",
    "    dic={}\n",
    "    \n",
    "    for i in participant:\n",
    "        dic[hash(i)]=i\n",
    "        print(dic)\n",
    "        temp += hash(i)\n",
    "        \n",
    "    for j in completion:\n",
    "        temp -= hash(j)\n",
    "        print(temp)\n",
    "        \n",
    "    answer=dic[temp]\n",
    "    return answer"
   ]
  },
  {
   "cell_type": "code",
   "execution_count": null,
   "id": "47a661dc",
   "metadata": {},
   "outputs": [],
   "source": []
  },
  {
   "cell_type": "code",
   "execution_count": 18,
   "id": "45d79fde",
   "metadata": {},
   "outputs": [
    {
     "name": "stdout",
     "output_type": "stream",
     "text": [
      "{6317281146200977494: 'mislav'}\n",
      "{6317281146200977494: 'mislav', 7827649438218240292: 'stanko'}\n",
      "{6317281146200977494: 'mislav', 7827649438218240292: 'stanko'}\n",
      "{6317281146200977494: 'mislav', 7827649438218240292: 'stanko', 8246750247627529030: 'ana'}\n",
      "20881312540029484018\n",
      "12634562292401954988\n",
      "6317281146200977494\n"
     ]
    },
    {
     "data": {
      "text/plain": [
       "'mislav'"
      ]
     },
     "execution_count": 18,
     "metadata": {},
     "output_type": "execute_result"
    }
   ],
   "source": [
    "solution(participant, completion)"
   ]
  },
  {
   "cell_type": "code",
   "execution_count": null,
   "id": "511948be",
   "metadata": {},
   "outputs": [],
   "source": []
  },
  {
   "cell_type": "code",
   "execution_count": null,
   "id": "748a19e0",
   "metadata": {},
   "outputs": [],
   "source": []
  }
 ],
 "metadata": {
  "kernelspec": {
   "display_name": "Python 3 (ipykernel)",
   "language": "python",
   "name": "python3"
  },
  "language_info": {
   "codemirror_mode": {
    "name": "ipython",
    "version": 3
   },
   "file_extension": ".py",
   "mimetype": "text/x-python",
   "name": "python",
   "nbconvert_exporter": "python",
   "pygments_lexer": "ipython3",
   "version": "3.9.7"
  },
  "toc": {
   "base_numbering": 1,
   "nav_menu": {},
   "number_sections": true,
   "sideBar": true,
   "skip_h1_title": false,
   "title_cell": "Table of Contents",
   "title_sidebar": "Contents",
   "toc_cell": false,
   "toc_position": {},
   "toc_section_display": true,
   "toc_window_display": false
  }
 },
 "nbformat": 4,
 "nbformat_minor": 5
}
