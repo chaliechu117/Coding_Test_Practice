{
 "cells": [
  {
   "cell_type": "markdown",
   "id": "fcda9d18",
   "metadata": {},
   "source": [
    "1. 콜라 20개 들어온다\n",
    "2. 2(a)로 나눈다. 몫*b는 새로 얻은 콜라 개수, 나머지는 남은 빈병 개수이다.\n",
    "3. 새로 얻은 콜라와 남은 빈병을 합친다.\n",
    "4. 다시 시행한다. 전체 개수가 a보다 작아지면 멈춘다.\n",
    "5. 몫을 계속 더한 최종 값이 답이다."
   ]
  },
  {
   "cell_type": "code",
   "execution_count": 2,
   "id": "845f0ae7",
   "metadata": {},
   "outputs": [],
   "source": [
    "def solution(a, b, n):\n",
    "    answer = 0\n",
    "    if a==0:\n",
    "        return answer\n",
    "    answer = cola(a,b,n,answer)\n",
    "    return answer"
   ]
  },
  {
   "cell_type": "code",
   "execution_count": 3,
   "id": "70510e33",
   "metadata": {},
   "outputs": [],
   "source": [
    "def cola(a, b, n, answer):\n",
    "    new_bottle = (n // a) * b\n",
    "    left_bottle = n % a\n",
    "    answer += new_bottle\n",
    "    n = new_bottle + left_bottle\n",
    "    if n < a or n==0:\n",
    "        return answer\n",
    "    else:\n",
    "        return cola(a,b,n,answer)"
   ]
  },
  {
   "cell_type": "code",
   "execution_count": 4,
   "id": "ea1af884",
   "metadata": {},
   "outputs": [
    {
     "data": {
      "text/plain": [
       "1"
      ]
     },
     "execution_count": 4,
     "metadata": {},
     "output_type": "execute_result"
    }
   ],
   "source": [
    "solution(10,1,10)"
   ]
  },
  {
   "cell_type": "code",
   "execution_count": 5,
   "id": "3cd925af",
   "metadata": {},
   "outputs": [],
   "source": [
    "def solution(a, b, n):\n",
    "    answer = 0\n",
    "    while n >= a:\n",
    "        new_bottle = (n // a) * b\n",
    "        left_bottle = n % a\n",
    "        n = new_bottle + left_bottle\n",
    "        answer += new_bottle\n",
    "    return answer"
   ]
  },
  {
   "cell_type": "code",
   "execution_count": 9,
   "id": "365d18ea",
   "metadata": {},
   "outputs": [
    {
     "data": {
      "text/plain": [
       "9"
      ]
     },
     "execution_count": 9,
     "metadata": {},
     "output_type": "execute_result"
    }
   ],
   "source": [
    "solution(3,1,20)"
   ]
  },
  {
   "cell_type": "code",
   "execution_count": 8,
   "id": "e7df3dcf",
   "metadata": {},
   "outputs": [
    {
     "data": {
      "text/plain": [
       "6"
      ]
     },
     "execution_count": 8,
     "metadata": {},
     "output_type": "execute_result"
    }
   ],
   "source": [
    "20//3"
   ]
  },
  {
   "cell_type": "code",
   "execution_count": null,
   "id": "368d9c6e",
   "metadata": {},
   "outputs": [],
   "source": []
  }
 ],
 "metadata": {
  "kernelspec": {
   "display_name": "Python 3 (ipykernel)",
   "language": "python",
   "name": "python3"
  },
  "language_info": {
   "codemirror_mode": {
    "name": "ipython",
    "version": 3
   },
   "file_extension": ".py",
   "mimetype": "text/x-python",
   "name": "python",
   "nbconvert_exporter": "python",
   "pygments_lexer": "ipython3",
   "version": "3.9.7"
  },
  "varInspector": {
   "cols": {
    "lenName": 16,
    "lenType": 16,
    "lenVar": 40
   },
   "kernels_config": {
    "python": {
     "delete_cmd_postfix": "",
     "delete_cmd_prefix": "del ",
     "library": "var_list.py",
     "varRefreshCmd": "print(var_dic_list())"
    },
    "r": {
     "delete_cmd_postfix": ") ",
     "delete_cmd_prefix": "rm(",
     "library": "var_list.r",
     "varRefreshCmd": "cat(var_dic_list()) "
    }
   },
   "types_to_exclude": [
    "module",
    "function",
    "builtin_function_or_method",
    "instance",
    "_Feature"
   ],
   "window_display": false
  }
 },
 "nbformat": 4,
 "nbformat_minor": 5
}
