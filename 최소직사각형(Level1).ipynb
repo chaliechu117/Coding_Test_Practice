{
 "cells": [
  {
   "cell_type": "code",
   "execution_count": 10,
   "id": "0f9ad2c4",
   "metadata": {},
   "outputs": [],
   "source": [
    "sizes = [[60, 50], [30, 70], [60, 30], [80, 40]]\n",
    "\n",
    "w_list = [s[0] for s in sizes]\n",
    "h_list = [s[1] for s in sizes]"
   ]
  },
  {
   "cell_type": "code",
   "execution_count": 11,
   "id": "e2b305fa",
   "metadata": {},
   "outputs": [],
   "source": [
    "if max(w_list) > max(h_list):\n",
    "    # w가 넓은걸로 선택된 경우\n",
    "    w = max(w_list)\n",
    "    tmp = []\n",
    "    for i in range(len(sizes)):\n",
    "        if sizes[i][0] < sizes[i][1]:\n",
    "            tmp.append(sizes[i][0])\n",
    "        elif sizes[i][0] > sizes[i][1]:\n",
    "            tmp.append(sizes[i][1])\n",
    "        else:\n",
    "            tmp.append(sizes[i][0])\n",
    "    h = max(tmp)\n",
    "else:\n",
    "    h = max(h_list)\n",
    "    tmp = []\n",
    "    for i in range(len(sizes)):\n",
    "        if sizes[i][1] < sizes[i][0]:\n",
    "            tmp.append(sizes[i][1])\n",
    "        elif sizes[i][1] > sizes[i][0]:\n",
    "            tmp.append(sizes[i][0])\n",
    "        else:\n",
    "            tmp.append(sizes[i][1])\n",
    "    w = max(tmp)\n",
    "    "
   ]
  },
  {
   "cell_type": "code",
   "execution_count": 23,
   "id": "ce361a47",
   "metadata": {},
   "outputs": [],
   "source": [
    "def solution(sizes):\n",
    "    w_list = [s[0] for s in sizes]\n",
    "    h_list = [s[1] for s in sizes]\n",
    "    if max(w_list) > max(h_list):\n",
    "        # w가 넓은걸로 선택된 경우\n",
    "        w = max(w_list)\n",
    "        tmp = []\n",
    "        for i in range(len(sizes)):\n",
    "            if sizes[i][0] < sizes[i][1]:\n",
    "                tmp.append(sizes[i][0])\n",
    "            elif sizes[i][0] > sizes[i][1]:\n",
    "                tmp.append(sizes[i][1])\n",
    "            else:\n",
    "                tmp.append(sizes[i][0])\n",
    "        h = max(tmp)\n",
    "        return h*w\n",
    "        \n",
    "    else:\n",
    "        h = max(h_list)\n",
    "        tmp = []\n",
    "        for i in range(len(sizes)):\n",
    "            if sizes[i][1] < sizes[i][0]:\n",
    "                tmp.append(sizes[i][1])\n",
    "            elif sizes[i][1] > sizes[i][0]:\n",
    "                tmp.append(sizes[i][0])\n",
    "            else:\n",
    "                tmp.append(sizes[i][1])\n",
    "        w = max(tmp)\n",
    "        return h*w"
   ]
  },
  {
   "cell_type": "code",
   "execution_count": 25,
   "id": "40cb7962",
   "metadata": {},
   "outputs": [
    {
     "name": "stdout",
     "output_type": "stream",
     "text": [
      "h 7 w 19\n"
     ]
    },
    {
     "data": {
      "text/plain": [
       "133"
      ]
     },
     "execution_count": 25,
     "metadata": {},
     "output_type": "execute_result"
    }
   ],
   "source": [
    "sizes = [[14, 4], [19, 6], [6, 16], [18, 7], [7, 11]]\n",
    "solution(sizes)"
   ]
  },
  {
   "cell_type": "code",
   "execution_count": null,
   "id": "7a53318f",
   "metadata": {},
   "outputs": [],
   "source": [
    "def solution(sizes):\n",
    "    return max(max(x) for x in sizes) * max(min(x) for x in sizes)"
   ]
  }
 ],
 "metadata": {
  "kernelspec": {
   "display_name": "Python 3 (ipykernel)",
   "language": "python",
   "name": "python3"
  },
  "language_info": {
   "codemirror_mode": {
    "name": "ipython",
    "version": 3
   },
   "file_extension": ".py",
   "mimetype": "text/x-python",
   "name": "python",
   "nbconvert_exporter": "python",
   "pygments_lexer": "ipython3",
   "version": "3.9.7"
  },
  "varInspector": {
   "cols": {
    "lenName": 16,
    "lenType": 16,
    "lenVar": 40
   },
   "kernels_config": {
    "python": {
     "delete_cmd_postfix": "",
     "delete_cmd_prefix": "del ",
     "library": "var_list.py",
     "varRefreshCmd": "print(var_dic_list())"
    },
    "r": {
     "delete_cmd_postfix": ") ",
     "delete_cmd_prefix": "rm(",
     "library": "var_list.r",
     "varRefreshCmd": "cat(var_dic_list()) "
    }
   },
   "types_to_exclude": [
    "module",
    "function",
    "builtin_function_or_method",
    "instance",
    "_Feature"
   ],
   "window_display": false
  }
 },
 "nbformat": 4,
 "nbformat_minor": 5
}
