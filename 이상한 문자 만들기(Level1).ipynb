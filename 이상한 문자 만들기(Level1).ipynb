{
 "cells": [
  {
   "cell_type": "code",
   "execution_count": 33,
   "id": "cc6adee4",
   "metadata": {},
   "outputs": [],
   "source": [
    "s = \"try hello world\""
   ]
  },
  {
   "cell_type": "code",
   "execution_count": 32,
   "id": "c6b10e17",
   "metadata": {},
   "outputs": [],
   "source": [
    "s = s.split(\" \")"
   ]
  },
  {
   "cell_type": "code",
   "execution_count": 9,
   "id": "8ba376c6",
   "metadata": {},
   "outputs": [],
   "source": [
    "answer=\"\"\n",
    "for word in s:\n",
    "    tmp=\"\"\n",
    "    for w in range(len(word)):\n",
    "        if w%2==0:\n",
    "            tmp += word[w].upper()\n",
    "        else:\n",
    "            tmp += word[w].lower()\n",
    "    answer += tmp"
   ]
  },
  {
   "cell_type": "code",
   "execution_count": 11,
   "id": "cde00713",
   "metadata": {},
   "outputs": [
    {
     "data": {
      "text/plain": [
       "'TrY HeLlO WoRlD '"
      ]
     },
     "execution_count": 11,
     "metadata": {},
     "output_type": "execute_result"
    }
   ],
   "source": [
    "answer"
   ]
  },
  {
   "cell_type": "code",
   "execution_count": 14,
   "id": "e011bf65",
   "metadata": {},
   "outputs": [
    {
     "name": "stdout",
     "output_type": "stream",
     "text": [
      "t\n",
      "r\n",
      "y\n",
      " \n",
      "h\n",
      "e\n",
      "l\n",
      "l\n",
      "o\n",
      " \n",
      "w\n",
      "o\n",
      "r\n",
      "l\n",
      "d\n"
     ]
    }
   ],
   "source": [
    "for i in s:\n",
    "    "
   ]
  },
  {
   "cell_type": "code",
   "execution_count": 25,
   "id": "c0460514",
   "metadata": {},
   "outputs": [],
   "source": [
    "def word(word):\n",
    "    result=\"\"\n",
    "    for i in range(len(word)):\n",
    "        if i%2 == 0:\n",
    "            result += word[i].upper()\n",
    "        else:\n",
    "            result += word[i].lower()\n",
    "    return result"
   ]
  },
  {
   "cell_type": "code",
   "execution_count": 26,
   "id": "383230f0",
   "metadata": {},
   "outputs": [],
   "source": [
    "answer = []\n",
    "for w in s:\n",
    "    answer.append(word(w))\n",
    "answer = \" \".join(answer)"
   ]
  },
  {
   "cell_type": "code",
   "execution_count": 28,
   "id": "4ebc2880",
   "metadata": {},
   "outputs": [
    {
     "data": {
      "text/plain": [
       "'TrY HeLlO WoRlD'"
      ]
     },
     "execution_count": 28,
     "metadata": {},
     "output_type": "execute_result"
    }
   ],
   "source": [
    "answer"
   ]
  },
  {
   "cell_type": "code",
   "execution_count": 42,
   "id": "68305788",
   "metadata": {},
   "outputs": [],
   "source": [
    "def word(word):\n",
    "    result=\"\"\n",
    "    for i in range(len(word)):\n",
    "        if i%2 == 0:\n",
    "            result += word[i].upper()\n",
    "        else:\n",
    "            result += word[i].lower()\n",
    "    return result\n",
    "\n",
    "def solution(s):\n",
    "    answer = []\n",
    "    s = s.split(\" \")\n",
    "    for w in s:\n",
    "        answer.append(word(w))\n",
    "    answer = \" \".join(answer)\n",
    "    return answer"
   ]
  },
  {
   "cell_type": "code",
   "execution_count": null,
   "id": "95065174",
   "metadata": {},
   "outputs": [],
   "source": []
  }
 ],
 "metadata": {
  "kernelspec": {
   "display_name": "Python 3 (ipykernel)",
   "language": "python",
   "name": "python3"
  },
  "language_info": {
   "codemirror_mode": {
    "name": "ipython",
    "version": 3
   },
   "file_extension": ".py",
   "mimetype": "text/x-python",
   "name": "python",
   "nbconvert_exporter": "python",
   "pygments_lexer": "ipython3",
   "version": "3.9.7"
  },
  "varInspector": {
   "cols": {
    "lenName": 16,
    "lenType": 16,
    "lenVar": 40
   },
   "kernels_config": {
    "python": {
     "delete_cmd_postfix": "",
     "delete_cmd_prefix": "del ",
     "library": "var_list.py",
     "varRefreshCmd": "print(var_dic_list())"
    },
    "r": {
     "delete_cmd_postfix": ") ",
     "delete_cmd_prefix": "rm(",
     "library": "var_list.r",
     "varRefreshCmd": "cat(var_dic_list()) "
    }
   },
   "types_to_exclude": [
    "module",
    "function",
    "builtin_function_or_method",
    "instance",
    "_Feature"
   ],
   "window_display": false
  }
 },
 "nbformat": 4,
 "nbformat_minor": 5
}
