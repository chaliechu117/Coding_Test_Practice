{
 "cells": [
  {
   "cell_type": "code",
   "execution_count": 9,
   "id": "d4e8918c",
   "metadata": {},
   "outputs": [],
   "source": [
    "id_list = [\"con\", \"ryan\"]\n",
    "report = [\"ryan con\", \"ryan con\", \"ryan con\", \"ryan con\"]\n",
    "k = 3"
   ]
  },
  {
   "cell_type": "code",
   "execution_count": 2,
   "id": "26ffe80e",
   "metadata": {},
   "outputs": [],
   "source": [
    "# 한사람이 같은 사람을 여러번 신고 할 수 없기 때문에 set로 중복을 없애준다.\n",
    "reported = {i:[] for i in id_list}\n",
    "report = list(set(report))"
   ]
  },
  {
   "cell_type": "code",
   "execution_count": 3,
   "id": "774bc026",
   "metadata": {},
   "outputs": [],
   "source": [
    "for r in report:\n",
    "    s = r.split(\" \")\n",
    "    reported[s[1]].append(s[0])"
   ]
  },
  {
   "cell_type": "code",
   "execution_count": 4,
   "id": "882dc0db",
   "metadata": {},
   "outputs": [],
   "source": [
    "name_li =[]\n",
    "for re in reported:\n",
    "    if len(reported[re]) >= k:\n",
    "        name_li += reported[re]"
   ]
  },
  {
   "cell_type": "code",
   "execution_count": 7,
   "id": "543397a8",
   "metadata": {},
   "outputs": [],
   "source": [
    "# result_dict = {i: 0 for i in id_list}\n",
    "# if name_li == []:\n",
    "#     return [0] * len(id_list)\n",
    "# else:\n",
    "#     for name in name_li:\n",
    "#         result_dict[name] += 1\n",
    "#     return list(result_dict.values())\n",
    "    \n",
    "    "
   ]
  },
  {
   "cell_type": "code",
   "execution_count": 6,
   "id": "cdd28a10",
   "metadata": {},
   "outputs": [],
   "source": [
    "def solution(id_list, report, k):\n",
    "    # 한사람이 같은 사람을 여러번 신고 할 수 없기 때문에 set로 중복을 없애준다.\n",
    "    reported = {i:[] for i in id_list}\n",
    "    report = list(set(report))\n",
    "    \n",
    "    for r in report:\n",
    "        s = r.split(\" \")\n",
    "        reported[s[1]].append(s[0])\n",
    "        \n",
    "    name_li =[]\n",
    "    for re in reported:\n",
    "        if len(reported[re]) >= k:\n",
    "            name_li += reported[re]\n",
    "            \n",
    "    result_dict = {i: 0 for i in id_list}\n",
    "    if name_li == []:\n",
    "        return [0] * len(id_list)\n",
    "    else:\n",
    "        for name in name_li:\n",
    "            result_dict[name] += 1\n",
    "        return list(result_dict.values())\n",
    "    \n",
    "    return answer"
   ]
  },
  {
   "cell_type": "code",
   "execution_count": 10,
   "id": "d79efc44",
   "metadata": {},
   "outputs": [
    {
     "data": {
      "text/plain": [
       "[0, 0]"
      ]
     },
     "execution_count": 10,
     "metadata": {},
     "output_type": "execute_result"
    }
   ],
   "source": [
    "solution(id_list, report, k)"
   ]
  },
  {
   "cell_type": "code",
   "execution_count": null,
   "id": "6e244ba9",
   "metadata": {},
   "outputs": [],
   "source": []
  }
 ],
 "metadata": {
  "kernelspec": {
   "display_name": "Python 3 (ipykernel)",
   "language": "python",
   "name": "python3"
  },
  "language_info": {
   "codemirror_mode": {
    "name": "ipython",
    "version": 3
   },
   "file_extension": ".py",
   "mimetype": "text/x-python",
   "name": "python",
   "nbconvert_exporter": "python",
   "pygments_lexer": "ipython3",
   "version": "3.9.7"
  },
  "varInspector": {
   "cols": {
    "lenName": 16,
    "lenType": 16,
    "lenVar": 40
   },
   "kernels_config": {
    "python": {
     "delete_cmd_postfix": "",
     "delete_cmd_prefix": "del ",
     "library": "var_list.py",
     "varRefreshCmd": "print(var_dic_list())"
    },
    "r": {
     "delete_cmd_postfix": ") ",
     "delete_cmd_prefix": "rm(",
     "library": "var_list.r",
     "varRefreshCmd": "cat(var_dic_list()) "
    }
   },
   "types_to_exclude": [
    "module",
    "function",
    "builtin_function_or_method",
    "instance",
    "_Feature"
   ],
   "window_display": false
  }
 },
 "nbformat": 4,
 "nbformat_minor": 5
}
