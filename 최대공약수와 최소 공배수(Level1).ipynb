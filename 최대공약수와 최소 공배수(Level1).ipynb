{
 "cells": [
  {
   "cell_type": "code",
   "execution_count": 19,
   "id": "ca837b3c",
   "metadata": {},
   "outputs": [],
   "source": [
    "def solution(n, m):\n",
    "    answer = []\n",
    "    smaller = min(n,m)\n",
    "    bigger = max(n,m)\n",
    "    for i in range(smaller,0,-1):\n",
    "        if n%i == 0 and m%i == 0:\n",
    "            answer.append(i)\n",
    "            break\n",
    "    for i in range(bigger,n*m+1):\n",
    "        if i%n == 0 and i%m == 0:\n",
    "            answer.append(i)\n",
    "            break\n",
    "    return answer"
   ]
  },
  {
   "cell_type": "code",
   "execution_count": 20,
   "id": "7b5f97a6",
   "metadata": {},
   "outputs": [
    {
     "data": {
      "text/plain": [
       "[3, 12]"
      ]
     },
     "execution_count": 20,
     "metadata": {},
     "output_type": "execute_result"
    }
   ],
   "source": [
    "n=3\n",
    "m=12\n",
    "solution(n,m)"
   ]
  },
  {
   "cell_type": "code",
   "execution_count": 18,
   "id": "312ae8df",
   "metadata": {},
   "outputs": [],
   "source": [
    "answer = []\n",
    "for i in range(min(n,m),0,-1):\n",
    "    if n%i==0 and m%i==0:\n",
    "        answer.append(i)\n",
    "        break\n",
    "for i in range(max(n,m),n*m+1):\n",
    "    if i%n==0 and i%m==0:\n",
    "        answer.append(i)\n",
    "        break"
   ]
  },
  {
   "cell_type": "code",
   "execution_count": 13,
   "id": "e9ade60f",
   "metadata": {},
   "outputs": [],
   "source": [
    "def solution(n, m):\n",
    "    answer = []\n",
    "    for i in range(min(n,m),0,-1): \n",
    "        if n%i ==0 and m%i==0:\n",
    "            answer.append(i)\n",
    "            break\n",
    "\n",
    "    for i in range(max(n,m),n*m+1):\n",
    "        if i%n == 0 and i%m == 0:\n",
    "            answer.append(i)\n",
    "            break\n",
    "    return answer"
   ]
  },
  {
   "cell_type": "code",
   "execution_count": 14,
   "id": "2d5cd9b4",
   "metadata": {},
   "outputs": [
    {
     "data": {
      "text/plain": [
       "[3, 12]"
      ]
     },
     "execution_count": 14,
     "metadata": {},
     "output_type": "execute_result"
    }
   ],
   "source": [
    "n=3\n",
    "m=12\n",
    "solution(n,m)"
   ]
  },
  {
   "cell_type": "code",
   "execution_count": null,
   "id": "98742743",
   "metadata": {},
   "outputs": [],
   "source": []
  }
 ],
 "metadata": {
  "kernelspec": {
   "display_name": "Python 3 (ipykernel)",
   "language": "python",
   "name": "python3"
  },
  "language_info": {
   "codemirror_mode": {
    "name": "ipython",
    "version": 3
   },
   "file_extension": ".py",
   "mimetype": "text/x-python",
   "name": "python",
   "nbconvert_exporter": "python",
   "pygments_lexer": "ipython3",
   "version": "3.9.7"
  },
  "varInspector": {
   "cols": {
    "lenName": 16,
    "lenType": 16,
    "lenVar": 40
   },
   "kernels_config": {
    "python": {
     "delete_cmd_postfix": "",
     "delete_cmd_prefix": "del ",
     "library": "var_list.py",
     "varRefreshCmd": "print(var_dic_list())"
    },
    "r": {
     "delete_cmd_postfix": ") ",
     "delete_cmd_prefix": "rm(",
     "library": "var_list.r",
     "varRefreshCmd": "cat(var_dic_list()) "
    }
   },
   "types_to_exclude": [
    "module",
    "function",
    "builtin_function_or_method",
    "instance",
    "_Feature"
   ],
   "window_display": false
  }
 },
 "nbformat": 4,
 "nbformat_minor": 5
}
