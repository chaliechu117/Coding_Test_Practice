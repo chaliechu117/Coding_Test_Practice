{
 "cells": [
  {
   "cell_type": "code",
   "execution_count": null,
   "id": "77751602",
   "metadata": {},
   "outputs": [],
   "source": [
    "board = [[0,0,0,0,0],[0,0,1,0,3],[0,2,5,0,1],[4,2,4,4,2],[3,5,1,3,1]]\n",
    "moves = [1,5,3,5,1,2,1,4]\n",
    "result =[]"
   ]
  },
  {
   "cell_type": "code",
   "execution_count": null,
   "id": "bdbc9a3f",
   "metadata": {},
   "outputs": [],
   "source": [
    "boards = {i+1:[] for i in range(len(board))}\n",
    "i=0\n",
    "for b in board:\n",
    "    for i in range(len(board)):\n",
    "        boards[i+1].append(b[i])"
   ]
  },
  {
   "cell_type": "code",
   "execution_count": null,
   "id": "b93b95d2",
   "metadata": {},
   "outputs": [],
   "source": [
    "boards"
   ]
  },
  {
   "cell_type": "code",
   "execution_count": null,
   "id": "0c260b53",
   "metadata": {},
   "outputs": [],
   "source": [
    "for m in moves:\n",
    "    for i in range(len(boards)):\n",
    "        if boards[m][i] != 0:\n",
    "            result.append(boards[m][i])\n",
    "            boards[m][i] = 0\n",
    "            break\n",
    "        else:\n",
    "            continue"
   ]
  },
  {
   "cell_type": "code",
   "execution_count": null,
   "id": "a2331e84",
   "metadata": {},
   "outputs": [],
   "source": [
    "print(result)"
   ]
  },
  {
   "cell_type": "code",
   "execution_count": null,
   "id": "77330726",
   "metadata": {},
   "outputs": [],
   "source": [
    "answer=[]\n",
    "def first_step(answer, result, tf):\n",
    "    print(\"시작\")\n",
    "    cnt = 1\n",
    "    for i in range(1,len(result)):\n",
    "        if result[i] == result[i-1]:\n",
    "            answer.append(result[i])\n",
    "            answer.append(result[i-1])\n",
    "            del result[i]\n",
    "            del result[i-1]\n",
    "            tf = True\n",
    "            return answer,result, tf\n",
    "        else:\n",
    "            cnt += 1\n",
    "            print(cnt)\n",
    "            if cnt == len(result):\n",
    "                tf = False\n",
    "                return answer, result, tf\n",
    "\n",
    "\n"
   ]
  },
  {
   "cell_type": "code",
   "execution_count": null,
   "id": "5c92516d",
   "metadata": {},
   "outputs": [],
   "source": [
    "tf = True\n",
    "while tf:\n",
    "    answer,result,tf = first_step(answer,result,tf)\n",
    "print(answer)"
   ]
  },
  {
   "cell_type": "code",
   "execution_count": null,
   "id": "7fe6175d",
   "metadata": {},
   "outputs": [],
   "source": []
  },
  {
   "cell_type": "code",
   "execution_count": null,
   "id": "1d1fd644",
   "metadata": {},
   "outputs": [],
   "source": []
  },
  {
   "cell_type": "code",
   "execution_count": null,
   "id": "d4827be0",
   "metadata": {},
   "outputs": [],
   "source": [
    "def first_step(answer, result, tf):\n",
    "    cnt = 1\n",
    "    for i in range(1,len(result)):\n",
    "        if result[i] == result[i-1]:\n",
    "            answer.append(result[i])\n",
    "            answer.append(result[i-1])\n",
    "            del result[i]\n",
    "            del result[i-1]\n",
    "            tf = True\n",
    "            return answer,result, tf\n",
    "        else:\n",
    "            cnt += 1\n",
    "            if cnt == len(result):\n",
    "                tf = False\n",
    "                return answer, result, tf\n",
    "            \n",
    "def solution(board, moves):\n",
    "    result =[]\n",
    "    answer=[]\n",
    "    \n",
    "    boards = {i+1:[] for i in range(len(board))}\n",
    "    for b in board:\n",
    "        print(\"가\")\n",
    "        for i in range(len(board)):\n",
    "            boards[i+1].append(b[i])\n",
    "    for m in moves:\n",
    "        print(\"나\")\n",
    "        for i in range(len(boards)):\n",
    "            if boards[m][i] != 0:\n",
    "                result.append(boards[m][i])\n",
    "                boards[m][i] = 0\n",
    "                break\n",
    "            else:\n",
    "                continue\n",
    "    tf = True\n",
    "    while tf:\n",
    "        print('다')\n",
    "        answer,result,tf = first_step(answer,result,tf)\n",
    "        if len(result) < 0:\n",
    "            break\n",
    "    return len(answer)"
   ]
  },
  {
   "cell_type": "code",
   "execution_count": 25,
   "id": "838a3adf",
   "metadata": {},
   "outputs": [],
   "source": [
    "board = [[0, 0, 0, 0], [0, 0, 0, 0], [0,0, 0, 0], [0, 0, 0, 0]]\n",
    "moves = [1, 2, 3, 4] \n",
    "result =[]"
   ]
  },
  {
   "cell_type": "code",
   "execution_count": 26,
   "id": "c14fca96",
   "metadata": {},
   "outputs": [],
   "source": [
    "boards = {i+1:[] for i in range(len(board))}\n",
    "i=0\n",
    "for b in board:\n",
    "    for i in range(len(board)):\n",
    "        boards[i+1].append(b[i])"
   ]
  },
  {
   "cell_type": "code",
   "execution_count": 27,
   "id": "3e035fb2",
   "metadata": {},
   "outputs": [
    {
     "data": {
      "text/plain": [
       "{1: [0, 0, 0, 0], 2: [0, 0, 0, 0], 3: [0, 0, 0, 0], 4: [0, 0, 0, 0]}"
      ]
     },
     "execution_count": 27,
     "metadata": {},
     "output_type": "execute_result"
    }
   ],
   "source": [
    "boards"
   ]
  },
  {
   "cell_type": "code",
   "execution_count": 28,
   "id": "06567cac",
   "metadata": {},
   "outputs": [],
   "source": [
    "for m in moves:\n",
    "    for i in range(len(boards)):\n",
    "        if boards[m][i] != 0:\n",
    "            result.append(boards[m][i])\n",
    "            boards[m][i] = 0\n",
    "            break\n",
    "        else:\n",
    "            continue"
   ]
  },
  {
   "cell_type": "code",
   "execution_count": 29,
   "id": "cf129b6d",
   "metadata": {},
   "outputs": [
    {
     "name": "stdout",
     "output_type": "stream",
     "text": [
      "[]\n"
     ]
    }
   ],
   "source": [
    "print(result)"
   ]
  },
  {
   "cell_type": "code",
   "execution_count": 30,
   "id": "525ee97e",
   "metadata": {},
   "outputs": [],
   "source": [
    "answer=[]\n",
    "def first_step(answer, result, tf):\n",
    "    print(\"시작\")\n",
    "    cnt = 1\n",
    "    for i in range(1,len(result)):\n",
    "        if result[i] == result[i-1]:\n",
    "            answer.append(result[i])\n",
    "            answer.append(result[i-1])\n",
    "            del result[i]\n",
    "            del result[i-1]\n",
    "            tf = True\n",
    "            return answer,result, tf\n",
    "        else:\n",
    "            cnt += 1\n",
    "            print(cnt)\n",
    "            if cnt == len(result):\n",
    "                tf = False\n",
    "                return answer, result, tf"
   ]
  },
  {
   "cell_type": "code",
   "execution_count": 32,
   "id": "ee2e57cc",
   "metadata": {},
   "outputs": [
    {
     "name": "stdout",
     "output_type": "stream",
     "text": [
      "[]\n"
     ]
    }
   ],
   "source": [
    "tf = True\n",
    "while tf:\n",
    "    if result ==[]:\n",
    "        break\n",
    "    answer,result,tf = first_step(answer,result,tf)\n",
    "    print(result)\n",
    "\n",
    "print(answer)"
   ]
  },
  {
   "cell_type": "code",
   "execution_count": 34,
   "id": "874389ce",
   "metadata": {},
   "outputs": [],
   "source": [
    "j=0\n",
    "for i in board:\n",
    "    j+=sum(i)"
   ]
  },
  {
   "cell_type": "code",
   "execution_count": 35,
   "id": "a661bec1",
   "metadata": {},
   "outputs": [
    {
     "data": {
      "text/plain": [
       "0"
      ]
     },
     "execution_count": 35,
     "metadata": {},
     "output_type": "execute_result"
    }
   ],
   "source": [
    "j"
   ]
  },
  {
   "cell_type": "code",
   "execution_count": 36,
   "id": "60fb90f8",
   "metadata": {},
   "outputs": [],
   "source": [
    "# 성공!\n",
    "def solution(board, moves):\n",
    "    bucket = []\n",
    "    answer = []\n",
    "    for move in moves:\n",
    "        for i in range(len(board)):\n",
    "            if board[i][move-1] > 0:\n",
    "                bucket.append(board[i][move-1])\n",
    "                board[i][move-1] = 0\n",
    "                if bucket[-1:] == bucket[-2:-1]:\n",
    "                    answer += bucket[-1:]\n",
    "                    bucket = bucket[:-2]\n",
    "                break\n",
    "    return len(answer)*2"
   ]
  },
  {
   "cell_type": "code",
   "execution_count": null,
   "id": "0f28c28e",
   "metadata": {},
   "outputs": [],
   "source": [
    "so"
   ]
  }
 ],
 "metadata": {
  "kernelspec": {
   "display_name": "Python 3 (ipykernel)",
   "language": "python",
   "name": "python3"
  },
  "language_info": {
   "codemirror_mode": {
    "name": "ipython",
    "version": 3
   },
   "file_extension": ".py",
   "mimetype": "text/x-python",
   "name": "python",
   "nbconvert_exporter": "python",
   "pygments_lexer": "ipython3",
   "version": "3.9.7"
  },
  "varInspector": {
   "cols": {
    "lenName": 16,
    "lenType": 16,
    "lenVar": 40
   },
   "kernels_config": {
    "python": {
     "delete_cmd_postfix": "",
     "delete_cmd_prefix": "del ",
     "library": "var_list.py",
     "varRefreshCmd": "print(var_dic_list())"
    },
    "r": {
     "delete_cmd_postfix": ") ",
     "delete_cmd_prefix": "rm(",
     "library": "var_list.r",
     "varRefreshCmd": "cat(var_dic_list()) "
    }
   },
   "types_to_exclude": [
    "module",
    "function",
    "builtin_function_or_method",
    "instance",
    "_Feature"
   ],
   "window_display": false
  }
 },
 "nbformat": 4,
 "nbformat_minor": 5
}
