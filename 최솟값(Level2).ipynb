{
 "cells": [
  {
   "cell_type": "code",
   "execution_count": 7,
   "id": "b00323ae",
   "metadata": {},
   "outputs": [],
   "source": [
    "A = [1, 4, 2]\n",
    "B = [5, 4, 4]\n",
    "answer = 0"
   ]
  },
  {
   "cell_type": "code",
   "execution_count": 8,
   "id": "a85d1d03",
   "metadata": {},
   "outputs": [],
   "source": [
    "#효율성 문제?\n",
    "while len(A)>0:\n",
    "    if min(A) < min(B):\n",
    "        answer += min(A) * max(B)\n",
    "        A.remove(min(A))\n",
    "        B.remove(max(B))\n",
    "\n",
    "    elif min(A) > min(B):\n",
    "        answer += min(B) * max(A)\n",
    "        A.remove(max(A))\n",
    "        B.remove(min(A))\n",
    "\n",
    "    else:\n",
    "        if max(A) >= max(B):\n",
    "            answer += min(B) * max(A)\n",
    "            A.remove(max(A))\n",
    "            B.remove(min(B))\n",
    "        else:\n",
    "            answer += min(A) * max(b)\n",
    "            A.remove(min(A))\n",
    "            B.remove(max(B))"
   ]
  },
  {
   "cell_type": "code",
   "execution_count": 9,
   "id": "3867bf94",
   "metadata": {},
   "outputs": [
    {
     "data": {
      "text/plain": [
       "29"
      ]
     },
     "execution_count": 9,
     "metadata": {},
     "output_type": "execute_result"
    }
   ],
   "source": [
    "answer"
   ]
  },
  {
   "cell_type": "code",
   "execution_count": 10,
   "id": "38439310",
   "metadata": {},
   "outputs": [],
   "source": [
    "A = [1, 4, 2]\n",
    "B = [5, 4, 4]\n",
    "answer = 0"
   ]
  },
  {
   "cell_type": "code",
   "execution_count": 11,
   "id": "e2344641",
   "metadata": {},
   "outputs": [],
   "source": [
    "A = sorted(A)\n",
    "B = sorted(B)"
   ]
  },
  {
   "cell_type": "code",
   "execution_count": 13,
   "id": "50f177b9",
   "metadata": {},
   "outputs": [],
   "source": [
    "for i in range(len(A)):\n",
    "    answer += A[i]*B[-(i+1)]"
   ]
  },
  {
   "cell_type": "code",
   "execution_count": 14,
   "id": "04e348cf",
   "metadata": {},
   "outputs": [
    {
     "data": {
      "text/plain": [
       "29"
      ]
     },
     "execution_count": 14,
     "metadata": {},
     "output_type": "execute_result"
    }
   ],
   "source": [
    "answer"
   ]
  },
  {
   "cell_type": "code",
   "execution_count": null,
   "id": "90a5217d",
   "metadata": {},
   "outputs": [],
   "source": []
  }
 ],
 "metadata": {
  "kernelspec": {
   "display_name": "Python 3 (ipykernel)",
   "language": "python",
   "name": "python3"
  },
  "language_info": {
   "codemirror_mode": {
    "name": "ipython",
    "version": 3
   },
   "file_extension": ".py",
   "mimetype": "text/x-python",
   "name": "python",
   "nbconvert_exporter": "python",
   "pygments_lexer": "ipython3",
   "version": "3.9.7"
  },
  "varInspector": {
   "cols": {
    "lenName": 16,
    "lenType": 16,
    "lenVar": 40
   },
   "kernels_config": {
    "python": {
     "delete_cmd_postfix": "",
     "delete_cmd_prefix": "del ",
     "library": "var_list.py",
     "varRefreshCmd": "print(var_dic_list())"
    },
    "r": {
     "delete_cmd_postfix": ") ",
     "delete_cmd_prefix": "rm(",
     "library": "var_list.r",
     "varRefreshCmd": "cat(var_dic_list()) "
    }
   },
   "types_to_exclude": [
    "module",
    "function",
    "builtin_function_or_method",
    "instance",
    "_Feature"
   ],
   "window_display": false
  }
 },
 "nbformat": 4,
 "nbformat_minor": 5
}
