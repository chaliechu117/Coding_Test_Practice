{
 "cells": [
  {
   "cell_type": "code",
   "execution_count": 88,
   "id": "8c867047",
   "metadata": {},
   "outputs": [],
   "source": [
    "X = \"5525\"\n",
    "Y = \"1255\""
   ]
  },
  {
   "cell_type": "code",
   "execution_count": 89,
   "id": "2f09736c",
   "metadata": {},
   "outputs": [],
   "source": [
    "x_list = [int(x) for x in X]\n",
    "y_list = [int(y) for y in Y]"
   ]
  },
  {
   "cell_type": "code",
   "execution_count": 90,
   "id": "812a9378",
   "metadata": {},
   "outputs": [
    {
     "name": "stdout",
     "output_type": "stream",
     "text": [
      "552\n"
     ]
    }
   ],
   "source": [
    "answer =[] \n",
    "for i in x_list:\n",
    "    for j in y_list:\n",
    "        if i == j:\n",
    "            answer.append(i)\n",
    "            y_list.remove(j)\n",
    "            break\n",
    "if answer == []:\n",
    "    print(\"-1\")\n",
    "elif set(answer) == {0}:\n",
    "    print(\"0\")\n",
    "else:\n",
    "    answer = sorted(answer, reverse=True)\n",
    "    answer = \"\".join(map(str, answer))\n",
    "    print(answer)\n",
    "    "
   ]
  },
  {
   "cell_type": "code",
   "execution_count": 91,
   "id": "625f2779",
   "metadata": {},
   "outputs": [
    {
     "data": {
      "text/plain": [
       "{'2', '5'}"
      ]
     },
     "execution_count": 91,
     "metadata": {},
     "output_type": "execute_result"
    }
   ],
   "source": [
    "set(X) & set(Y)"
   ]
  },
  {
   "cell_type": "code",
   "execution_count": 129,
   "id": "a643169f",
   "metadata": {},
   "outputs": [],
   "source": [
    "X = \"00\"\n",
    "Y = \"0000\"\n",
    "answer=[]"
   ]
  },
  {
   "cell_type": "code",
   "execution_count": 130,
   "id": "c5fd458b",
   "metadata": {},
   "outputs": [],
   "source": [
    "# 같은 수 집합\n",
    "same = (set(X) & set(Y))"
   ]
  },
  {
   "cell_type": "code",
   "execution_count": 133,
   "id": "5690f3f1",
   "metadata": {},
   "outputs": [
    {
     "data": {
      "text/plain": [
       "{'0'}"
      ]
     },
     "execution_count": 133,
     "metadata": {},
     "output_type": "execute_result"
    }
   ],
   "source": [
    "same"
   ]
  },
  {
   "cell_type": "code",
   "execution_count": 131,
   "id": "48795c40",
   "metadata": {},
   "outputs": [],
   "source": [
    "for i in same:\n",
    "    for j in range(min(X.count(i),Y.count(i))):\n",
    "        answer.append(i)"
   ]
  },
  {
   "cell_type": "code",
   "execution_count": 134,
   "id": "d24549c5",
   "metadata": {},
   "outputs": [
    {
     "name": "stdout",
     "output_type": "stream",
     "text": [
      "0\n"
     ]
    }
   ],
   "source": [
    "if answer == []:\n",
    "    print(\"-1\")\n",
    "elif set(answer) == {'0'}:\n",
    "    print(\"0\")\n",
    "else:\n",
    "    answer = sorted(answer, reverse=True)\n",
    "    answer = \"\".join(map(str, answer))\n",
    "    print(answer)"
   ]
  },
  {
   "cell_type": "code",
   "execution_count": null,
   "id": "d26a07e2",
   "metadata": {},
   "outputs": [],
   "source": []
  }
 ],
 "metadata": {
  "kernelspec": {
   "display_name": "Python 3 (ipykernel)",
   "language": "python",
   "name": "python3"
  },
  "language_info": {
   "codemirror_mode": {
    "name": "ipython",
    "version": 3
   },
   "file_extension": ".py",
   "mimetype": "text/x-python",
   "name": "python",
   "nbconvert_exporter": "python",
   "pygments_lexer": "ipython3",
   "version": "3.9.7"
  },
  "varInspector": {
   "cols": {
    "lenName": 16,
    "lenType": 16,
    "lenVar": 40
   },
   "kernels_config": {
    "python": {
     "delete_cmd_postfix": "",
     "delete_cmd_prefix": "del ",
     "library": "var_list.py",
     "varRefreshCmd": "print(var_dic_list())"
    },
    "r": {
     "delete_cmd_postfix": ") ",
     "delete_cmd_prefix": "rm(",
     "library": "var_list.r",
     "varRefreshCmd": "cat(var_dic_list()) "
    }
   },
   "types_to_exclude": [
    "module",
    "function",
    "builtin_function_or_method",
    "instance",
    "_Feature"
   ],
   "window_display": false
  }
 },
 "nbformat": 4,
 "nbformat_minor": 5
}
