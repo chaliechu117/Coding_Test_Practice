{
 "cells": [
  {
   "cell_type": "code",
   "execution_count": 34,
   "id": "ed8df81f",
   "metadata": {},
   "outputs": [],
   "source": [
    "#효율성 문제 있음\n",
    "\n",
    "def solution(s):\n",
    "    s = list(s)\n",
    "    length = len(s)\n",
    "    if len(s)%2 != 0:\n",
    "        return False\n",
    "    elif s.count(\"(\") != s.count(\")\"):\n",
    "        return False\n",
    "    \n",
    "    cnt = 0\n",
    "    \n",
    "    while cnt <= length/2:        \n",
    "        for i in range(len(s)-1):\n",
    "            if s[i] == \"(\" and s[i+1] == \")\":\n",
    "                del s[i]\n",
    "                del s[i]\n",
    "                break\n",
    "                \n",
    "        if len(s) == 0:\n",
    "            return True\n",
    "        elif s[-1] ==\"(\" or s[0] == \")\":\n",
    "            return False\n",
    "        cnt += 1\n",
    "        \n",
    "    return False"
   ]
  },
  {
   "cell_type": "code",
   "execution_count": 47,
   "id": "440d9318",
   "metadata": {},
   "outputs": [
    {
     "data": {
      "text/plain": [
       "True"
      ]
     },
     "execution_count": 47,
     "metadata": {},
     "output_type": "execute_result"
    }
   ],
   "source": [
    "s = \"(())()\"\n",
    "solution(s)"
   ]
  },
  {
   "cell_type": "code",
   "execution_count": 46,
   "id": "5b3e8e2a",
   "metadata": {},
   "outputs": [
    {
     "data": {
      "text/plain": [
       "''"
      ]
     },
     "execution_count": 46,
     "metadata": {},
     "output_type": "execute_result"
    }
   ],
   "source": [
    "s"
   ]
  },
  {
   "cell_type": "code",
   "execution_count": 43,
   "id": "3eae7095",
   "metadata": {},
   "outputs": [],
   "source": [
    "if \"()\" in s:\n",
    "    s=s.replace(\"()\",\"\")"
   ]
  },
  {
   "cell_type": "code",
   "execution_count": 55,
   "id": "d5fdabc4",
   "metadata": {},
   "outputs": [],
   "source": [
    "# 이것도 효율성 문제\n",
    "def solution(s):\n",
    "    length = len(s)\n",
    "    \n",
    "    # 예외처리\n",
    "    if len(s)%2 != 0:\n",
    "        return False\n",
    "    elif s.count(\"(\") != s.count(\")\"):\n",
    "        return False\n",
    "    \n",
    "    \n",
    "    while len(s)!=0:\n",
    "        if \"()\" in s:\n",
    "            s = s.replace(\"()\",\"\")\n",
    "        else:\n",
    "            return False\n",
    "    return True"
   ]
  },
  {
   "cell_type": "code",
   "execution_count": 56,
   "id": "67ac363b",
   "metadata": {},
   "outputs": [
    {
     "data": {
      "text/plain": [
       "True"
      ]
     },
     "execution_count": 56,
     "metadata": {},
     "output_type": "execute_result"
    }
   ],
   "source": [
    "s = \"(())()\"\n",
    "solution(s)"
   ]
  },
  {
   "cell_type": "code",
   "execution_count": 59,
   "id": "6b97e185",
   "metadata": {},
   "outputs": [],
   "source": [
    "#통과!\n",
    "def solution(s):\n",
    "    cnt = 0\n",
    "    for i in range(len(s)):\n",
    "        if s[i] ==\"(\":\n",
    "            cnt += 1\n",
    "        else:\n",
    "            cnt -=1\n",
    "        \n",
    "        if cnt < 0:\n",
    "            return False\n",
    "    return cnt == 0"
   ]
  },
  {
   "cell_type": "code",
   "execution_count": 60,
   "id": "e0377161",
   "metadata": {},
   "outputs": [
    {
     "data": {
      "text/plain": [
       "True"
      ]
     },
     "execution_count": 60,
     "metadata": {},
     "output_type": "execute_result"
    }
   ],
   "source": [
    "s = \"(())()\"\n",
    "solution(s)"
   ]
  },
  {
   "cell_type": "code",
   "execution_count": null,
   "id": "33cb3edc",
   "metadata": {},
   "outputs": [],
   "source": []
  }
 ],
 "metadata": {
  "kernelspec": {
   "display_name": "Python 3 (ipykernel)",
   "language": "python",
   "name": "python3"
  },
  "language_info": {
   "codemirror_mode": {
    "name": "ipython",
    "version": 3
   },
   "file_extension": ".py",
   "mimetype": "text/x-python",
   "name": "python",
   "nbconvert_exporter": "python",
   "pygments_lexer": "ipython3",
   "version": "3.9.7"
  },
  "varInspector": {
   "cols": {
    "lenName": 16,
    "lenType": 16,
    "lenVar": 40
   },
   "kernels_config": {
    "python": {
     "delete_cmd_postfix": "",
     "delete_cmd_prefix": "del ",
     "library": "var_list.py",
     "varRefreshCmd": "print(var_dic_list())"
    },
    "r": {
     "delete_cmd_postfix": ") ",
     "delete_cmd_prefix": "rm(",
     "library": "var_list.r",
     "varRefreshCmd": "cat(var_dic_list()) "
    }
   },
   "types_to_exclude": [
    "module",
    "function",
    "builtin_function_or_method",
    "instance",
    "_Feature"
   ],
   "window_display": false
  }
 },
 "nbformat": 4,
 "nbformat_minor": 5
}
