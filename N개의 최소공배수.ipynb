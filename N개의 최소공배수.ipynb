{
 "cells": [
  {
   "cell_type": "markdown",
   "id": "90d7b108",
   "metadata": {},
   "source": [
    "최소 공배수가 되기 위해서는 각 숫자들을 나누고 나눠서 소수가 되게 만들어야 한다."
   ]
  },
  {
   "cell_type": "code",
   "execution_count": 3,
   "id": "39d26f88",
   "metadata": {},
   "outputs": [],
   "source": [
    "arr = [2, 6, 8, 14]"
   ]
  },
  {
   "cell_type": "code",
   "execution_count": 7,
   "id": "e26f005c",
   "metadata": {},
   "outputs": [],
   "source": [
    "answer = 0\n",
    "n = 1\n",
    "\n",
    "while True:\n",
    "    answer = max(arr) * n\n",
    "    tf = True\n",
    "    for num in arr:\n",
    "        if answer % num != 0:\n",
    "            tf = False\n",
    "            break\n",
    "    if tf == True:\n",
    "        break\n",
    "    n += 1\n",
    "            "
   ]
  },
  {
   "cell_type": "code",
   "execution_count": 8,
   "id": "f5822e49",
   "metadata": {},
   "outputs": [
    {
     "data": {
      "text/plain": [
       "168"
      ]
     },
     "execution_count": 8,
     "metadata": {},
     "output_type": "execute_result"
    }
   ],
   "source": [
    "answer"
   ]
  },
  {
   "cell_type": "code",
   "execution_count": null,
   "id": "413d7a12",
   "metadata": {},
   "outputs": [],
   "source": []
  }
 ],
 "metadata": {
  "kernelspec": {
   "display_name": "Python 3 (ipykernel)",
   "language": "python",
   "name": "python3"
  },
  "language_info": {
   "codemirror_mode": {
    "name": "ipython",
    "version": 3
   },
   "file_extension": ".py",
   "mimetype": "text/x-python",
   "name": "python",
   "nbconvert_exporter": "python",
   "pygments_lexer": "ipython3",
   "version": "3.9.7"
  },
  "varInspector": {
   "cols": {
    "lenName": 16,
    "lenType": 16,
    "lenVar": 40
   },
   "kernels_config": {
    "python": {
     "delete_cmd_postfix": "",
     "delete_cmd_prefix": "del ",
     "library": "var_list.py",
     "varRefreshCmd": "print(var_dic_list())"
    },
    "r": {
     "delete_cmd_postfix": ") ",
     "delete_cmd_prefix": "rm(",
     "library": "var_list.r",
     "varRefreshCmd": "cat(var_dic_list()) "
    }
   },
   "types_to_exclude": [
    "module",
    "function",
    "builtin_function_or_method",
    "instance",
    "_Feature"
   ],
   "window_display": false
  }
 },
 "nbformat": 4,
 "nbformat_minor": 5
}
