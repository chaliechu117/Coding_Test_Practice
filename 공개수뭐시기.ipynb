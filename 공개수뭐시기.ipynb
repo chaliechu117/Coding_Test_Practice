{
 "cells": [
  {
   "cell_type": "markdown",
   "id": "f1a1b7b8",
   "metadata": {},
   "source": [
    "# 사용할 함수"
   ]
  },
  {
   "cell_type": "code",
   "execution_count": 1,
   "id": "3247b067",
   "metadata": {},
   "outputs": [],
   "source": [
    "# 빼도 되는 애랑 더해야 되는애 구하기\n",
    "def first_step(future_ball, present_ball):\n",
    "    to_minus=[]\n",
    "    to_plus=[]\n",
    "    for i in future_ball:\n",
    "        if present_ball[i] > future_ball[i]:\n",
    "            to_minus.append(i)\n",
    "        elif present_ball[i] < future_ball[i]:\n",
    "            to_plus.append(i)\n",
    "    return to_minus, to_plus"
   ]
  },
  {
   "cell_type": "code",
   "execution_count": 2,
   "id": "28cb4219",
   "metadata": {},
   "outputs": [],
   "source": [
    "def second_step(to_plus, to_minus):\n",
    "    for i in to_plus:\n",
    "        must_have = future_ball[i] - present_ball[i]\n",
    "        for j in range(must_have):\n",
    "            for m in to_minus:\n",
    "                if present_ball[m] > future_ball[m]:\n",
    "                    present_ball[m] -= 2\n",
    "                    present_ball[i] += 1\n",
    "    return present_ball, future_ball"
   ]
  },
  {
   "cell_type": "code",
   "execution_count": 3,
   "id": "f77b3e55",
   "metadata": {},
   "outputs": [],
   "source": [
    "def final(future_ball, present_ball):\n",
    "    to_minus, to_plus = first_step(future_ball, present_ball)\n",
    "    present_ball, future_ball = second_step(to_plus, to_minus)\n",
    "    if present_ball == future_ball:\n",
    "        return True\n",
    "    else:\n",
    "        return False"
   ]
  },
  {
   "cell_type": "code",
   "execution_count": 13,
   "id": "4229ad1c",
   "metadata": {},
   "outputs": [
    {
     "name": "stdout",
     "output_type": "stream",
     "text": [
      "현재 가지고 있는 공의 개수를 R,G,B 순으로 적으시오(ex: 4 4 4):3 4 3\n",
      "원하는 공의 개수를 R,G,B 순으로 입력하세요(ex: 4 4 4):2 2 2\n"
     ]
    }
   ],
   "source": [
    "# 사용자가 가지고 있는 공과 만들고자 하는 공의 개수 입력하기\n",
    "ball_color=['R','G','B']\n",
    "user_balls = list(map(int, input(\"현재 가지고 있는 공의 개수를 R,G,B 순으로 적으시오(ex: 4 4 4):\").split()))\n",
    "want_balls = list(map(int, input(\"원하는 공의 개수를 R,G,B 순으로 입력하세요(ex: 4 4 4):\").split()))"
   ]
  },
  {
   "cell_type": "code",
   "execution_count": 14,
   "id": "9b699037",
   "metadata": {},
   "outputs": [
    {
     "data": {
      "text/plain": [
       "False"
      ]
     },
     "execution_count": 14,
     "metadata": {},
     "output_type": "execute_result"
    }
   ],
   "source": [
    "present_ball = {ball_color[i] : user_balls[i] for i in range(3)}\n",
    "future_ball = {ball_color[i] : want_balls[i] for i in range(3)}\n",
    "final(future_ball, present_ball)"
   ]
  },
  {
   "cell_type": "code",
   "execution_count": 9,
   "id": "f927fd16",
   "metadata": {},
   "outputs": [
    {
     "data": {
      "text/plain": [
       "{'R': 0, 'G': 1, 'B': 0}"
      ]
     },
     "execution_count": 9,
     "metadata": {},
     "output_type": "execute_result"
    }
   ],
   "source": [
    "future_ball"
   ]
  },
  {
   "cell_type": "code",
   "execution_count": null,
   "id": "371366a6",
   "metadata": {},
   "outputs": [],
   "source": []
  }
 ],
 "metadata": {
  "kernelspec": {
   "display_name": "Python 3 (ipykernel)",
   "language": "python",
   "name": "python3"
  },
  "language_info": {
   "codemirror_mode": {
    "name": "ipython",
    "version": 3
   },
   "file_extension": ".py",
   "mimetype": "text/x-python",
   "name": "python",
   "nbconvert_exporter": "python",
   "pygments_lexer": "ipython3",
   "version": "3.9.7"
  },
  "varInspector": {
   "cols": {
    "lenName": 16,
    "lenType": 16,
    "lenVar": 40
   },
   "kernels_config": {
    "python": {
     "delete_cmd_postfix": "",
     "delete_cmd_prefix": "del ",
     "library": "var_list.py",
     "varRefreshCmd": "print(var_dic_list())"
    },
    "r": {
     "delete_cmd_postfix": ") ",
     "delete_cmd_prefix": "rm(",
     "library": "var_list.r",
     "varRefreshCmd": "cat(var_dic_list()) "
    }
   },
   "types_to_exclude": [
    "module",
    "function",
    "builtin_function_or_method",
    "instance",
    "_Feature"
   ],
   "window_display": false
  }
 },
 "nbformat": 4,
 "nbformat_minor": 5
}
