{
 "cells": [
  {
   "cell_type": "code",
   "execution_count": 42,
   "id": "b38398da",
   "metadata": {},
   "outputs": [],
   "source": [
    "skill = \"CBD\"\n",
    "skill_trees = [\"BACDE\", \"CBADF\", \"AECB\", \"BDA\"]"
   ]
  },
  {
   "cell_type": "code",
   "execution_count": 45,
   "id": "1e278e9e",
   "metadata": {},
   "outputs": [
    {
     "name": "stdout",
     "output_type": "stream",
     "text": [
      "['B', 'C', 'D']\n",
      "['C', 'B', 'D']\n",
      "['C', 'B']\n",
      "['B', 'D']\n"
     ]
    }
   ],
   "source": [
    "answer = 0\n",
    "skill = list(skill)\n",
    "rules = [[]]\n",
    "\n",
    "for i in range(1, len(skill)+1):\n",
    "    rules.append(skill[:i])\n",
    "    \n",
    "for skills in skill_trees:\n",
    "    tmp = []\n",
    "    for s in skills:\n",
    "        if s in skill:\n",
    "            tmp.append(s)            \n",
    "        else:\n",
    "            continue\n",
    "            \n",
    "    if tmp in rules:\n",
    "        answer += 1\n",
    "    \n",
    "    print(tmp)"
   ]
  },
  {
   "cell_type": "code",
   "execution_count": 44,
   "id": "3426cdd6",
   "metadata": {},
   "outputs": [
    {
     "data": {
      "text/plain": [
       "2"
      ]
     },
     "execution_count": 44,
     "metadata": {},
     "output_type": "execute_result"
    }
   ],
   "source": [
    "answer"
   ]
  },
  {
   "cell_type": "code",
   "execution_count": 25,
   "id": "f7e642ba",
   "metadata": {},
   "outputs": [
    {
     "data": {
      "text/plain": [
       "['C', 'B', 'D']"
      ]
     },
     "execution_count": 25,
     "metadata": {},
     "output_type": "execute_result"
    }
   ],
   "source": [
    "list(skill)"
   ]
  },
  {
   "cell_type": "code",
   "execution_count": 28,
   "id": "b15fcc15",
   "metadata": {},
   "outputs": [],
   "source": [
    "rules = []\n",
    "for i in range(1, len(skill)+1):\n",
    "    rules.append(skill[:i])"
   ]
  },
  {
   "cell_type": "code",
   "execution_count": 29,
   "id": "2aaa8984",
   "metadata": {},
   "outputs": [
    {
     "data": {
      "text/plain": [
       "[['C'], ['C', 'B'], ['C', 'B', 'D']]"
      ]
     },
     "execution_count": 29,
     "metadata": {},
     "output_type": "execute_result"
    }
   ],
   "source": [
    "rules"
   ]
  },
  {
   "cell_type": "code",
   "execution_count": null,
   "id": "278af41f",
   "metadata": {},
   "outputs": [],
   "source": []
  }
 ],
 "metadata": {
  "kernelspec": {
   "display_name": "Python 3 (ipykernel)",
   "language": "python",
   "name": "python3"
  },
  "language_info": {
   "codemirror_mode": {
    "name": "ipython",
    "version": 3
   },
   "file_extension": ".py",
   "mimetype": "text/x-python",
   "name": "python",
   "nbconvert_exporter": "python",
   "pygments_lexer": "ipython3",
   "version": "3.9.7"
  },
  "varInspector": {
   "cols": {
    "lenName": 16,
    "lenType": 16,
    "lenVar": 40
   },
   "kernels_config": {
    "python": {
     "delete_cmd_postfix": "",
     "delete_cmd_prefix": "del ",
     "library": "var_list.py",
     "varRefreshCmd": "print(var_dic_list())"
    },
    "r": {
     "delete_cmd_postfix": ") ",
     "delete_cmd_prefix": "rm(",
     "library": "var_list.r",
     "varRefreshCmd": "cat(var_dic_list()) "
    }
   },
   "types_to_exclude": [
    "module",
    "function",
    "builtin_function_or_method",
    "instance",
    "_Feature"
   ],
   "window_display": false
  }
 },
 "nbformat": 4,
 "nbformat_minor": 5
}
