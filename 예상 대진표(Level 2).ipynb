{
 "cells": [
  {
   "cell_type": "code",
   "execution_count": 1,
   "id": "fbefa796",
   "metadata": {},
   "outputs": [],
   "source": [
    "n = 8\n",
    "a = 4\n",
    "b = 7"
   ]
  },
  {
   "cell_type": "code",
   "execution_count": null,
   "id": "557acd07",
   "metadata": {},
   "outputs": [],
   "source": [
    "race = []\n",
    "for i in range(1,n+1,2):\n",
    "    race.append([i,i+1])"
   ]
  },
  {
   "cell_type": "code",
   "execution_count": null,
   "id": "09e36f5c",
   "metadata": {},
   "outputs": [],
   "source": []
  },
  {
   "cell_type": "code",
   "execution_count": null,
   "id": "c29cb1bb",
   "metadata": {},
   "outputs": [],
   "source": [
    "def racing(race):\n",
    "    result = []\n",
    "    tmp = []\n",
    "    \n",
    "    for r in race:\n",
    "        if a in r:\n",
    "            tmp.append(a)\n",
    "        elif b in r:\n",
    "            tmp.append(b)\n",
    "        else:\n",
    "            tmp.append(r[0])\n",
    "\n",
    "        if len(tmp) == 2:\n",
    "            result.append(tmp)\n",
    "            tmp = []\n",
    "            \n",
    "    return result"
   ]
  },
  {
   "cell_type": "code",
   "execution_count": null,
   "id": "6c735e23",
   "metadata": {},
   "outputs": [],
   "source": [
    "answer = 1\n",
    "while True:\n",
    "    if [a,b] in race:\n",
    "        break\n",
    "    race = racing(race)\n",
    "    answer += 1"
   ]
  },
  {
   "cell_type": "code",
   "execution_count": null,
   "id": "2f9cafcb",
   "metadata": {},
   "outputs": [],
   "source": [
    "answer"
   ]
  },
  {
   "cell_type": "code",
   "execution_count": 5,
   "id": "1c35c7e9",
   "metadata": {},
   "outputs": [],
   "source": [
    "def racing(race,a,b):\n",
    "    result = []\n",
    "    tmp = []\n",
    "    \n",
    "    for r in race:\n",
    "        if a in r:\n",
    "            tmp.append(a)\n",
    "        elif b in r:\n",
    "            tmp.append(b)\n",
    "        else:\n",
    "            tmp.append(r[0])\n",
    "\n",
    "        if len(tmp) == 2:\n",
    "            result.append(tmp)\n",
    "            tmp = []\n",
    "            \n",
    "    return result\n",
    "\n",
    "def solution(n,a,b):\n",
    "    race = []\n",
    "    for i in range(1,n+1,2):\n",
    "        race.append([i,i+1])\n",
    "        \n",
    "    answer = 1\n",
    "    while True:\n",
    "        if [a,b] in race:\n",
    "            break\n",
    "        race = racing(race)\n",
    "        answer += 1\n",
    "\n",
    "    return answer"
   ]
  },
  {
   "cell_type": "code",
   "execution_count": 6,
   "id": "9791e9ea",
   "metadata": {},
   "outputs": [
    {
     "data": {
      "text/plain": [
       "3"
      ]
     },
     "execution_count": 6,
     "metadata": {},
     "output_type": "execute_result"
    }
   ],
   "source": [
    "solution(n,a,b)"
   ]
  },
  {
   "cell_type": "code",
   "execution_count": 22,
   "id": "cfc95fe2",
   "metadata": {},
   "outputs": [
    {
     "data": {
      "text/plain": [
       "('0b11', '0b110')"
      ]
     },
     "execution_count": 22,
     "metadata": {},
     "output_type": "execute_result"
    }
   ],
   "source": [
    "bin(a-1), bin(b-1)"
   ]
  },
  {
   "cell_type": "code",
   "execution_count": 21,
   "id": "d703fe76",
   "metadata": {},
   "outputs": [
    {
     "data": {
      "text/plain": [
       "('0b10', '0b11')"
      ]
     },
     "execution_count": 21,
     "metadata": {},
     "output_type": "execute_result"
    }
   ],
   "source": [
    "bin(2), bin(3)"
   ]
  },
  {
   "cell_type": "code",
   "execution_count": 27,
   "id": "e1478eb5",
   "metadata": {},
   "outputs": [
    {
     "name": "stdout",
     "output_type": "stream",
     "text": [
      "11\n"
     ]
    }
   ],
   "source": [
    "print(bin(a-1).split(\"b\")[1])"
   ]
  },
  {
   "cell_type": "code",
   "execution_count": 28,
   "id": "e4f3b3f5",
   "metadata": {},
   "outputs": [
    {
     "name": "stdout",
     "output_type": "stream",
     "text": [
      "110\n"
     ]
    }
   ],
   "source": [
    "print(bin(b-1).split(\"b\")[1])"
   ]
  },
  {
   "cell_type": "markdown",
   "id": "126159f9",
   "metadata": {},
   "source": [
    "4 랑 16이 만나려면 4번 경기를 해야함"
   ]
  },
  {
   "cell_type": "code",
   "execution_count": 30,
   "id": "e13ef63a",
   "metadata": {
    "scrolled": true
   },
   "outputs": [
    {
     "name": "stdout",
     "output_type": "stream",
     "text": [
      "10\n",
      "1111\n"
     ]
    }
   ],
   "source": [
    "print(bin(3-1).split(\"b\")[1])\n",
    "print(bin(16-1).split(\"b\")[1])"
   ]
  },
  {
   "cell_type": "code",
   "execution_count": 47,
   "id": "b7ee9647",
   "metadata": {},
   "outputs": [],
   "source": [
    "n = 8\n",
    "a = 4\n",
    "b = 7"
   ]
  },
  {
   "cell_type": "code",
   "execution_count": 48,
   "id": "1edbaf1d",
   "metadata": {},
   "outputs": [],
   "source": [
    "answer = 0\n",
    "while a != b :\n",
    "    a,b = (a+1)//2, (b+1)//2\n",
    "    answer += 1"
   ]
  },
  {
   "cell_type": "code",
   "execution_count": 49,
   "id": "a3062b5b",
   "metadata": {},
   "outputs": [
    {
     "data": {
      "text/plain": [
       "3"
      ]
     },
     "execution_count": 49,
     "metadata": {},
     "output_type": "execute_result"
    }
   ],
   "source": [
    "answer"
   ]
  },
  {
   "cell_type": "code",
   "execution_count": null,
   "id": "c46ec450",
   "metadata": {},
   "outputs": [],
   "source": []
  }
 ],
 "metadata": {
  "kernelspec": {
   "display_name": "Python 3 (ipykernel)",
   "language": "python",
   "name": "python3"
  },
  "language_info": {
   "codemirror_mode": {
    "name": "ipython",
    "version": 3
   },
   "file_extension": ".py",
   "mimetype": "text/x-python",
   "name": "python",
   "nbconvert_exporter": "python",
   "pygments_lexer": "ipython3",
   "version": "3.9.7"
  },
  "varInspector": {
   "cols": {
    "lenName": 16,
    "lenType": 16,
    "lenVar": 40
   },
   "kernels_config": {
    "python": {
     "delete_cmd_postfix": "",
     "delete_cmd_prefix": "del ",
     "library": "var_list.py",
     "varRefreshCmd": "print(var_dic_list())"
    },
    "r": {
     "delete_cmd_postfix": ") ",
     "delete_cmd_prefix": "rm(",
     "library": "var_list.r",
     "varRefreshCmd": "cat(var_dic_list()) "
    }
   },
   "types_to_exclude": [
    "module",
    "function",
    "builtin_function_or_method",
    "instance",
    "_Feature"
   ],
   "window_display": false
  }
 },
 "nbformat": 4,
 "nbformat_minor": 5
}
