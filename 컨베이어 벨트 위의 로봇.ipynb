{
 "cells": [
  {
   "cell_type": "code",
   "execution_count": null,
   "id": "c988096b",
   "metadata": {},
   "outputs": [],
   "source": [
    "n = list(map(int,input().split()))\n",
    "A = list(map(int,input().split()))"
   ]
  },
  {
   "cell_type": "code",
   "execution_count": null,
   "id": "f9799186",
   "metadata": {},
   "outputs": [],
   "source": [
    "N = n[0]\n",
    "K = n[1]\n",
    "upper=[]\n",
    "lower=[]"
   ]
  },
  {
   "cell_type": "code",
   "execution_count": null,
   "id": "b80f8c34",
   "metadata": {},
   "outputs": [],
   "source": [
    "robot_upper=[]\n",
    "robot_lower=[]\n",
    "for i in range(N):\n",
    "    robot_upper.append(0)\n",
    "    robot_lower.append(0)"
   ]
  },
  {
   "cell_type": "code",
   "execution_count": null,
   "id": "b60d8a51",
   "metadata": {},
   "outputs": [],
   "source": [
    "# upper과 lower로 나누기\n",
    "for i in range(N):\n",
    "    upper.append(A[i])\n",
    "    lower.append(A[-(i+1)])"
   ]
  },
  {
   "cell_type": "code",
   "execution_count": null,
   "id": "7a2a356d",
   "metadata": {},
   "outputs": [],
   "source": [
    "def conv_move(upper, lower):\n",
    "    new_upper = upper.copy()\n",
    "    new_lower = lower.copy()\n",
    "    for i in range(len(upper)-1):\n",
    "        new_upper[i+1] = upper[i]\n",
    "        new_lower[i] = lower[i+1]\n",
    "    new_upper[0] = lower[0]\n",
    "    new_lower[-1] =upper[-1]\n",
    "    return new_upper, new_lower"
   ]
  },
  {
   "cell_type": "code",
   "execution_count": null,
   "id": "8967e7fd",
   "metadata": {},
   "outputs": [],
   "source": [
    "upper, lower = conv_move(upper,lower)"
   ]
  },
  {
   "cell_type": "code",
   "execution_count": null,
   "id": "d381d6b9",
   "metadata": {},
   "outputs": [],
   "source": [
    "upper, lower"
   ]
  },
  {
   "cell_type": "code",
   "execution_count": null,
   "id": "e258fd84",
   "metadata": {},
   "outputs": [],
   "source": [
    "robot_upper"
   ]
  },
  {
   "cell_type": "code",
   "execution_count": null,
   "id": "65cf48cf",
   "metadata": {},
   "outputs": [],
   "source": [
    "def robot_up(upper, robot_upper):\n",
    "    if (upper[0] != 0) and (robot_upper[0]==0):\n",
    "        #로봇 올리기\n",
    "        robot_upper[0] = 1\n",
    "        #컨베이어 내구도 1감소\n",
    "        upper[0] = upper[0]-1\n",
    "    return robot_upper"
   ]
  },
  {
   "cell_type": "code",
   "execution_count": null,
   "id": "ddea70cf",
   "metadata": {},
   "outputs": [],
   "source": [
    "robot_upper=robot_up(upper, robot_upper)"
   ]
  },
  {
   "cell_type": "code",
   "execution_count": null,
   "id": "6aa26c72",
   "metadata": {},
   "outputs": [],
   "source": [
    "robot_upper"
   ]
  },
  {
   "cell_type": "code",
   "execution_count": 1,
   "id": "b76af9bb",
   "metadata": {},
   "outputs": [
    {
     "name": "stdout",
     "output_type": "stream",
     "text": [
      "3 2\n",
      "1 2 1 2 1 2\n"
     ]
    }
   ],
   "source": [
    "N, K = map(int, input().split())\n",
    "belt = list(map(int, input().split()))\n",
    "robot = [0] * (2 * N)\n",
    "cnt = 1"
   ]
  },
  {
   "cell_type": "code",
   "execution_count": 6,
   "id": "02d8811b",
   "metadata": {},
   "outputs": [],
   "source": [
    "N, K = map(int, input().split())\n",
    "belt = list(map(int, input().split()))\n",
    "robot = [0] * (2 * N)\n",
    "cnt = 1\n",
    "\n",
    "while True:\n",
    "    belt = [belt[-1]] + belt[:-1]\n",
    "    robot = [robot[-1]]+robot[:-1]\n",
    "    \n",
    "    if robot[N-1] != 0:\n",
    "        robot[N-1] = 0\n",
    "    \n",
    "    # 로봇 움직이기\n",
    "    for i in range(N-2, -1, -1):\n",
    "        if robot[i] > 0 and robot[i+1] == 0 and belt[i+1] != 0:\n",
    "            robot[i+1] = robot[i]\n",
    "            robot[i] = 0\n",
    "            belt[i+1] -= 1\n",
    "\n",
    "    # 마지막 컨베어 로봇 없애기\n",
    "    if robot[N-1] != 0:\n",
    "        robot[N-1] = 0\n",
    "\n",
    "    # 로봇 올리기\n",
    "    if belt[0] != 0 :\n",
    "        robot[0] = 1\n",
    "        belt[0] -= 1\n",
    "        \n",
    "    #만약 내구도 0의 개수가 K개 이상이면 break\n",
    "    if belt.count(0) >= K:\n",
    "        break\n",
    "    cnt += 1\n",
    "print(cnt)"
   ]
  },
  {
   "cell_type": "code",
   "execution_count": 7,
   "id": "8fcae3c2",
   "metadata": {},
   "outputs": [
    {
     "name": "stdout",
     "output_type": "stream",
     "text": [
      "2\n"
     ]
    }
   ],
   "source": [
    "print(cnt)"
   ]
  },
  {
   "cell_type": "code",
   "execution_count": null,
   "id": "842f4d7e",
   "metadata": {},
   "outputs": [],
   "source": []
  }
 ],
 "metadata": {
  "kernelspec": {
   "display_name": "Python 3 (ipykernel)",
   "language": "python",
   "name": "python3"
  },
  "language_info": {
   "codemirror_mode": {
    "name": "ipython",
    "version": 3
   },
   "file_extension": ".py",
   "mimetype": "text/x-python",
   "name": "python",
   "nbconvert_exporter": "python",
   "pygments_lexer": "ipython3",
   "version": "3.9.7"
  },
  "varInspector": {
   "cols": {
    "lenName": 16,
    "lenType": 16,
    "lenVar": 40
   },
   "kernels_config": {
    "python": {
     "delete_cmd_postfix": "",
     "delete_cmd_prefix": "del ",
     "library": "var_list.py",
     "varRefreshCmd": "print(var_dic_list())"
    },
    "r": {
     "delete_cmd_postfix": ") ",
     "delete_cmd_prefix": "rm(",
     "library": "var_list.r",
     "varRefreshCmd": "cat(var_dic_list()) "
    }
   },
   "types_to_exclude": [
    "module",
    "function",
    "builtin_function_or_method",
    "instance",
    "_Feature"
   ],
   "window_display": false
  }
 },
 "nbformat": 4,
 "nbformat_minor": 5
}
