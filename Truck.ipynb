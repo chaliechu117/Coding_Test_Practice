{
 "cells": [
  {
   "cell_type": "code",
   "execution_count": 37,
   "id": "bdf6059f",
   "metadata": {},
   "outputs": [],
   "source": [
    "bridge_length =2\n",
    "weight = 10\n",
    "truck_weights = [7,4,5,6]"
   ]
  },
  {
   "cell_type": "code",
   "execution_count": 7,
   "id": "b02786ce",
   "metadata": {},
   "outputs": [],
   "source": [
    "def solution(bridge_length, weight, truck_weights):\n",
    "    on_bridge=[]\n",
    "    count=0\n",
    "    time=0\n",
    "    while len(truck_weights)>0:\n",
    "        for i in range(len(bridge_length)):\n",
    "            on_bridge.append(truck_weights[count])\n",
    "            if on_bridge.sum() > weight:\n",
    "                break\n",
    "        time += bride_length\n",
    "                \n",
    "        \n",
    "        \n",
    "        \n",
    "    answer = 0\n",
    "    return answer\n",
    "# 아 다리 하나가 버틸 수 있는 무게구나"
   ]
  },
  {
   "cell_type": "code",
   "execution_count": 40,
   "id": "f63a491c",
   "metadata": {},
   "outputs": [
    {
     "name": "stdout",
     "output_type": "stream",
     "text": [
      "[7, 4, 5, 6]\n",
      "[4, 5, 6]\n",
      "[4, 5, 6]\n",
      "[5, 6]\n",
      "[6]\n",
      "[6]\n"
     ]
    },
    {
     "data": {
      "text/plain": [
       "8"
      ]
     },
     "execution_count": 40,
     "metadata": {},
     "output_type": "execute_result"
    }
   ],
   "source": [
    "solution(bridge_length, weight, truck_weights)"
   ]
  },
  {
   "cell_type": "code",
   "execution_count": 39,
   "id": "bc003d0a",
   "metadata": {},
   "outputs": [],
   "source": [
    "#다리의 배열을 만들어야겠다\n",
    "def solution(bridge_length, weight, truck_weights):\n",
    "    bridge = [0] * bridge_length\n",
    "    time = 0\n",
    "    \n",
    "    while bridge:\n",
    "        time += 1\n",
    "        bridge.pop(0)\n",
    "\n",
    "        if truck_weights:\n",
    "            if truck_weights[0] + sum(bridge) <= weight:\n",
    "                bridge.append(truck_weights.pop(0))\n",
    "            else:\n",
    "                bridge.append(0)\n",
    "\n",
    "    return time"
   ]
  },
  {
   "cell_type": "code",
   "execution_count": 14,
   "id": "d59dbb2e",
   "metadata": {},
   "outputs": [],
   "source": [
    "on_bridge = [0] * bridge_length\n",
    "time = 0\n",
    "\n",
    "while on_bridge:\n",
    "    time += 1\n",
    "\n",
    "    on_bridge.pop(0)\n",
    "\n",
    "    if len(truck_weights)>0:\n",
    "        if truck_weights[0] + sum(on_bridge) <= weight:\n",
    "            on_bridge.append(truck_weights.pop(0))\n",
    "        else:\n",
    "            on_bridge.append(0)"
   ]
  },
  {
   "cell_type": "code",
   "execution_count": 15,
   "id": "516a47d7",
   "metadata": {},
   "outputs": [
    {
     "data": {
      "text/plain": [
       "[0, 0]"
      ]
     },
     "execution_count": 15,
     "metadata": {},
     "output_type": "execute_result"
    }
   ],
   "source": [
    "on_bridge = [0] * bridge_length\n",
    "on_bridge"
   ]
  },
  {
   "cell_type": "code",
   "execution_count": null,
   "id": "d249017a",
   "metadata": {},
   "outputs": [],
   "source": []
  }
 ],
 "metadata": {
  "kernelspec": {
   "display_name": "Python 3 (ipykernel)",
   "language": "python",
   "name": "python3"
  },
  "language_info": {
   "codemirror_mode": {
    "name": "ipython",
    "version": 3
   },
   "file_extension": ".py",
   "mimetype": "text/x-python",
   "name": "python",
   "nbconvert_exporter": "python",
   "pygments_lexer": "ipython3",
   "version": "3.9.7"
  },
  "toc": {
   "base_numbering": 1,
   "nav_menu": {},
   "number_sections": true,
   "sideBar": true,
   "skip_h1_title": false,
   "title_cell": "Table of Contents",
   "title_sidebar": "Contents",
   "toc_cell": false,
   "toc_position": {},
   "toc_section_display": true,
   "toc_window_display": false
  }
 },
 "nbformat": 4,
 "nbformat_minor": 5
}
