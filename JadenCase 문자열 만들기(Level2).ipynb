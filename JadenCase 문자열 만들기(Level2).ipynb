{
 "cells": [
  {
   "cell_type": "code",
   "execution_count": 11,
   "id": "d36ea72f",
   "metadata": {},
   "outputs": [],
   "source": [
    "s = \"3people unFollowed me\""
   ]
  },
  {
   "cell_type": "code",
   "execution_count": 4,
   "id": "e98dea5f",
   "metadata": {},
   "outputs": [],
   "source": [
    "s = s.lower()\n",
    "s = s.split()"
   ]
  },
  {
   "cell_type": "code",
   "execution_count": 5,
   "id": "4aa7083c",
   "metadata": {},
   "outputs": [
    {
     "data": {
      "text/plain": [
       "['3people', 'unfollowed', 'me']"
      ]
     },
     "execution_count": 5,
     "metadata": {},
     "output_type": "execute_result"
    }
   ],
   "source": [
    "s"
   ]
  },
  {
   "cell_type": "code",
   "execution_count": 9,
   "id": "ebdba0ae",
   "metadata": {},
   "outputs": [],
   "source": [
    "result = [] \n",
    "for word in s:\n",
    "    try:\n",
    "        int(word[0])\n",
    "        result.append(word)\n",
    "    except:\n",
    "        result.append(word[0].upper() + word[1:])"
   ]
  },
  {
   "cell_type": "code",
   "execution_count": 10,
   "id": "f911577d",
   "metadata": {},
   "outputs": [
    {
     "data": {
      "text/plain": [
       "['3people', 'Unfollowed', 'Me']"
      ]
     },
     "execution_count": 10,
     "metadata": {},
     "output_type": "execute_result"
    }
   ],
   "source": [
    "result"
   ]
  },
  {
   "cell_type": "code",
   "execution_count": 23,
   "id": "c35d640a",
   "metadata": {},
   "outputs": [],
   "source": [
    "s = \"3people unFollowed me\"\n",
    "s = s.lower()\n",
    "s = list(s)\n",
    "num_list = [\"0\",\"1\",\"2\",'3',\"4\",\"5\",\"6\",\"7\",\"8\",\"9\"]\n",
    "if s[0] != \" \" and s[0] not in num_list:\n",
    "    s[0] = s[0].upper()\n",
    "for i in range(len(s)-1):\n",
    "    if s[i] in num_list:\n",
    "        continue\n",
    "    elif s[i] == \" \" and s[i+1] != \" \" and s[i+1] not in num_list:\n",
    "        s[i+1] = s[i+1].upper()\n",
    "answer = \"\".join(s)"
   ]
  },
  {
   "cell_type": "code",
   "execution_count": 24,
   "id": "c2591b72",
   "metadata": {},
   "outputs": [
    {
     "data": {
      "text/plain": [
       "'3people Unfollowed Me'"
      ]
     },
     "execution_count": 24,
     "metadata": {},
     "output_type": "execute_result"
    }
   ],
   "source": [
    "\"\".join(s)"
   ]
  },
  {
   "cell_type": "code",
   "execution_count": null,
   "id": "d725e3a0",
   "metadata": {},
   "outputs": [],
   "source": []
  }
 ],
 "metadata": {
  "kernelspec": {
   "display_name": "Python 3 (ipykernel)",
   "language": "python",
   "name": "python3"
  },
  "language_info": {
   "codemirror_mode": {
    "name": "ipython",
    "version": 3
   },
   "file_extension": ".py",
   "mimetype": "text/x-python",
   "name": "python",
   "nbconvert_exporter": "python",
   "pygments_lexer": "ipython3",
   "version": "3.9.7"
  },
  "varInspector": {
   "cols": {
    "lenName": 16,
    "lenType": 16,
    "lenVar": 40
   },
   "kernels_config": {
    "python": {
     "delete_cmd_postfix": "",
     "delete_cmd_prefix": "del ",
     "library": "var_list.py",
     "varRefreshCmd": "print(var_dic_list())"
    },
    "r": {
     "delete_cmd_postfix": ") ",
     "delete_cmd_prefix": "rm(",
     "library": "var_list.r",
     "varRefreshCmd": "cat(var_dic_list()) "
    }
   },
   "types_to_exclude": [
    "module",
    "function",
    "builtin_function_or_method",
    "instance",
    "_Feature"
   ],
   "window_display": false
  }
 },
 "nbformat": 4,
 "nbformat_minor": 5
}
