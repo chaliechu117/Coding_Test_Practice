{
 "cells": [
  {
   "cell_type": "code",
   "execution_count": 18,
   "id": "5a29799c",
   "metadata": {},
   "outputs": [],
   "source": [
    "n=45"
   ]
  },
  {
   "cell_type": "code",
   "execution_count": 20,
   "id": "5a76f7be",
   "metadata": {},
   "outputs": [],
   "source": [
    "result=\"\"\n",
    "while n > 0:\n",
    "    result += str(n%3)\n",
    "    n = n//3"
   ]
  },
  {
   "cell_type": "code",
   "execution_count": 22,
   "id": "e6c0ed1e",
   "metadata": {},
   "outputs": [
    {
     "data": {
      "text/plain": [
       "7"
      ]
     },
     "execution_count": 22,
     "metadata": {},
     "output_type": "execute_result"
    }
   ],
   "source": [
    "int(result,3)"
   ]
  },
  {
   "cell_type": "code",
   "execution_count": 23,
   "id": "b92d9c16",
   "metadata": {},
   "outputs": [],
   "source": [
    "def solution(n):\n",
    "    result=\"\"\n",
    "    while n > 0:\n",
    "        result += str(n%3)\n",
    "        n = n//3\n",
    "    return int(result,3)"
   ]
  },
  {
   "cell_type": "code",
   "execution_count": null,
   "id": "84037629",
   "metadata": {},
   "outputs": [],
   "source": []
  }
 ],
 "metadata": {
  "kernelspec": {
   "display_name": "Python 3 (ipykernel)",
   "language": "python",
   "name": "python3"
  },
  "language_info": {
   "codemirror_mode": {
    "name": "ipython",
    "version": 3
   },
   "file_extension": ".py",
   "mimetype": "text/x-python",
   "name": "python",
   "nbconvert_exporter": "python",
   "pygments_lexer": "ipython3",
   "version": "3.9.7"
  },
  "varInspector": {
   "cols": {
    "lenName": 16,
    "lenType": 16,
    "lenVar": 40
   },
   "kernels_config": {
    "python": {
     "delete_cmd_postfix": "",
     "delete_cmd_prefix": "del ",
     "library": "var_list.py",
     "varRefreshCmd": "print(var_dic_list())"
    },
    "r": {
     "delete_cmd_postfix": ") ",
     "delete_cmd_prefix": "rm(",
     "library": "var_list.r",
     "varRefreshCmd": "cat(var_dic_list()) "
    }
   },
   "types_to_exclude": [
    "module",
    "function",
    "builtin_function_or_method",
    "instance",
    "_Feature"
   ],
   "window_display": false
  }
 },
 "nbformat": 4,
 "nbformat_minor": 5
}
