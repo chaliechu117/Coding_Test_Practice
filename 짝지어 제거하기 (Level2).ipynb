{
 "cells": [
  {
   "cell_type": "code",
   "execution_count": null,
   "id": "8c99419b",
   "metadata": {},
   "outputs": [],
   "source": [
    "s=\"baabaa\""
   ]
  },
  {
   "cell_type": "code",
   "execution_count": null,
   "id": "b8f96658",
   "metadata": {},
   "outputs": [],
   "source": [
    "check = []\n",
    "for ss in s:\n",
    "    print(check)\n",
    "    if len(check)== 0:\n",
    "        check.append(ss)\n",
    "    elif check[-1] == ss:\n",
    "        del check[-1]\n",
    "    elif check[-1] !=ss:\n",
    "        check.append(ss)\n",
    "if len(check) ==0 :\n",
    "    print(1)\n",
    "else:\n",
    "    print(0)"
   ]
  },
  {
   "cell_type": "code",
   "execution_count": null,
   "id": "2153c329",
   "metadata": {},
   "outputs": [],
   "source": [
    "solution(\"baabaa\")"
   ]
  },
  {
   "cell_type": "code",
   "execution_count": null,
   "id": "256f80d0",
   "metadata": {},
   "outputs": [],
   "source": [
    "s = \"baabaa\""
   ]
  },
  {
   "cell_type": "code",
   "execution_count": null,
   "id": "0027a37c",
   "metadata": {},
   "outputs": [],
   "source": [
    "def solution(s):\n",
    "    result = []\n",
    "    for w in s:\n",
    "        if len(result) == 0:\n",
    "            result.append(w)\n",
    "        elif result[-1] == w:\n",
    "            del result[-1]\n",
    "        elif result[-1] != w:\n",
    "            result.append(w)\n",
    "    if len(result) == 0:\n",
    "        return 1\n",
    "    return 0"
   ]
  },
  {
   "cell_type": "code",
   "execution_count": null,
   "id": "9bcf505d",
   "metadata": {},
   "outputs": [],
   "source": [
    "s"
   ]
  },
  {
   "cell_type": "code",
   "execution_count": null,
   "id": "fa86e3c7",
   "metadata": {},
   "outputs": [],
   "source": []
  }
 ],
 "metadata": {
  "kernelspec": {
   "display_name": "Python 3 (ipykernel)",
   "language": "python",
   "name": "python3"
  },
  "language_info": {
   "codemirror_mode": {
    "name": "ipython",
    "version": 3
   },
   "file_extension": ".py",
   "mimetype": "text/x-python",
   "name": "python",
   "nbconvert_exporter": "python",
   "pygments_lexer": "ipython3",
   "version": "3.9.7"
  },
  "varInspector": {
   "cols": {
    "lenName": 16,
    "lenType": 16,
    "lenVar": 40
   },
   "kernels_config": {
    "python": {
     "delete_cmd_postfix": "",
     "delete_cmd_prefix": "del ",
     "library": "var_list.py",
     "varRefreshCmd": "print(var_dic_list())"
    },
    "r": {
     "delete_cmd_postfix": ") ",
     "delete_cmd_prefix": "rm(",
     "library": "var_list.r",
     "varRefreshCmd": "cat(var_dic_list()) "
    }
   },
   "types_to_exclude": [
    "module",
    "function",
    "builtin_function_or_method",
    "instance",
    "_Feature"
   ],
   "window_display": false
  }
 },
 "nbformat": 4,
 "nbformat_minor": 5
}
