{
 "cells": [
  {
   "cell_type": "code",
   "execution_count": 52,
   "id": "50c05ac7",
   "metadata": {},
   "outputs": [],
   "source": [
    "s = \"23four5six7\""
   ]
  },
  {
   "cell_type": "code",
   "execution_count": 50,
   "id": "f0eed34f",
   "metadata": {},
   "outputs": [],
   "source": [
    "def solution(s):\n",
    "    answer = ''\n",
    "    tmp = ''\n",
    "    numbers = {'zero': '0','one':'1','two':'2','three':'3','four':'4','five':'5','six':'6','seven':'7','eight':'8','nine':'9'}\n",
    "    \n",
    "    for i in s:\n",
    "        tmp += i\n",
    "        if tmp in numbers:\n",
    "            answer += numbers[tmp]\n",
    "            tmp =\"\"\n",
    "        elif \"0\" <= tmp <= \"9\":\n",
    "            answer += tmp\n",
    "            tmp=\"\"\n",
    "            \n",
    "    return int(answer)"
   ]
  },
  {
   "cell_type": "code",
   "execution_count": 53,
   "id": "1cac82bc",
   "metadata": {},
   "outputs": [
    {
     "data": {
      "text/plain": [
       "234567"
      ]
     },
     "execution_count": 53,
     "metadata": {},
     "output_type": "execute_result"
    }
   ],
   "source": [
    "solution(s)"
   ]
  },
  {
   "cell_type": "code",
   "execution_count": 47,
   "id": "da6177fb",
   "metadata": {},
   "outputs": [],
   "source": [
    "numbers = {'zero': '0','one':'1','two':'2','three':'3','four':'4','ficve':'5','six':'6','seven':'7','eight':'8','nine':'9'}\n",
    "answer = \"\"\n",
    "tmp = \"\""
   ]
  },
  {
   "cell_type": "code",
   "execution_count": 48,
   "id": "9c92409b",
   "metadata": {},
   "outputs": [],
   "source": [
    "for i in s:\n",
    "    tmp += i\n",
    "    if tmp in numbers:\n",
    "        answer += numbers[tmp]\n",
    "        tmp =\"\"\n",
    "    elif \"0\" <= tmp <= \"9\":\n",
    "        answer += tmp\n",
    "        tmp=\"\""
   ]
  },
  {
   "cell_type": "code",
   "execution_count": 49,
   "id": "63fb7d4e",
   "metadata": {},
   "outputs": [
    {
     "data": {
      "text/plain": [
       "'1478'"
      ]
     },
     "execution_count": 49,
     "metadata": {},
     "output_type": "execute_result"
    }
   ],
   "source": [
    "answer"
   ]
  },
  {
   "cell_type": "code",
   "execution_count": 27,
   "id": "e3a5bcd0",
   "metadata": {},
   "outputs": [
    {
     "data": {
      "text/plain": [
       "True"
      ]
     },
     "execution_count": 27,
     "metadata": {},
     "output_type": "execute_result"
    }
   ],
   "source": [
    "tmp += i"
   ]
  },
  {
   "cell_type": "code",
   "execution_count": 28,
   "id": "2f1f9253",
   "metadata": {},
   "outputs": [
    {
     "data": {
      "text/plain": [
       "'1'"
      ]
     },
     "execution_count": 28,
     "metadata": {},
     "output_type": "execute_result"
    }
   ],
   "source": [
    "numbers[\"one\"]"
   ]
  },
  {
   "cell_type": "code",
   "execution_count": null,
   "id": "622c6683",
   "metadata": {},
   "outputs": [],
   "source": []
  }
 ],
 "metadata": {
  "kernelspec": {
   "display_name": "Python 3 (ipykernel)",
   "language": "python",
   "name": "python3"
  },
  "language_info": {
   "codemirror_mode": {
    "name": "ipython",
    "version": 3
   },
   "file_extension": ".py",
   "mimetype": "text/x-python",
   "name": "python",
   "nbconvert_exporter": "python",
   "pygments_lexer": "ipython3",
   "version": "3.9.7"
  },
  "varInspector": {
   "cols": {
    "lenName": 16,
    "lenType": 16,
    "lenVar": 40
   },
   "kernels_config": {
    "python": {
     "delete_cmd_postfix": "",
     "delete_cmd_prefix": "del ",
     "library": "var_list.py",
     "varRefreshCmd": "print(var_dic_list())"
    },
    "r": {
     "delete_cmd_postfix": ") ",
     "delete_cmd_prefix": "rm(",
     "library": "var_list.r",
     "varRefreshCmd": "cat(var_dic_list()) "
    }
   },
   "types_to_exclude": [
    "module",
    "function",
    "builtin_function_or_method",
    "instance",
    "_Feature"
   ],
   "window_display": false
  }
 },
 "nbformat": 4,
 "nbformat_minor": 5
}
