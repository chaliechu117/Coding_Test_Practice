{
 "cells": [
  {
   "cell_type": "code",
   "execution_count": 3,
   "id": "0143aa48",
   "metadata": {},
   "outputs": [],
   "source": [
    "def solution(n, words):\n",
    "\n",
    "    return print(\"z\")"
   ]
  },
  {
   "cell_type": "code",
   "execution_count": 4,
   "id": "031813a4",
   "metadata": {},
   "outputs": [
    {
     "name": "stdout",
     "output_type": "stream",
     "text": [
      "z\n"
     ]
    }
   ],
   "source": [
    "n = 2\n",
    "words = [\"hello\", \"one\", \"even\", \"never\", \"now\", \"world\", \"draw\"]\n",
    "solution(n, words)"
   ]
  },
  {
   "cell_type": "code",
   "execution_count": 34,
   "id": "f33735fa",
   "metadata": {},
   "outputs": [],
   "source": [
    "player_dict = {i+1 : [] for i in range(n)}\n",
    "player_dict[1].append(words[0])\n",
    "\n",
    "answer = [0,0]\n",
    "used = [words[i]]\n",
    "\n",
    "for i in range(1,len(words)):\n",
    "    player_dict[(i % n) + 1].append(words[i])\n",
    "    if (words[i-1][-1] != words[i][0]) or (words[i] in used):\n",
    "        answer[0] = (i % n) + 1 \n",
    "        answer[1] = len(player_dict[(i % n) + 1])\n",
    "        break\n",
    "    used.append(words[i])"
   ]
  },
  {
   "cell_type": "code",
   "execution_count": 35,
   "id": "1e7c520e",
   "metadata": {},
   "outputs": [
    {
     "data": {
      "text/plain": [
       "'h'"
      ]
     },
     "execution_count": 35,
     "metadata": {},
     "output_type": "execute_result"
    }
   ],
   "source": [
    "words[0][0]"
   ]
  },
  {
   "cell_type": "code",
   "execution_count": 30,
   "id": "0944efda",
   "metadata": {},
   "outputs": [
    {
     "data": {
      "text/plain": [
       "{1: ['hello', 'even', 'now', 'draw'], 2: ['one', 'never', 'world']}"
      ]
     },
     "execution_count": 30,
     "metadata": {},
     "output_type": "execute_result"
    }
   ],
   "source": [
    "player_dict"
   ]
  },
  {
   "cell_type": "code",
   "execution_count": 36,
   "id": "9c42277d",
   "metadata": {},
   "outputs": [
    {
     "data": {
      "text/plain": [
       "[1, 3]"
      ]
     },
     "execution_count": 36,
     "metadata": {},
     "output_type": "execute_result"
    }
   ],
   "source": [
    "answer"
   ]
  },
  {
   "cell_type": "code",
   "execution_count": null,
   "id": "596d304f",
   "metadata": {},
   "outputs": [],
   "source": []
  }
 ],
 "metadata": {
  "kernelspec": {
   "display_name": "Python 3 (ipykernel)",
   "language": "python",
   "name": "python3"
  },
  "language_info": {
   "codemirror_mode": {
    "name": "ipython",
    "version": 3
   },
   "file_extension": ".py",
   "mimetype": "text/x-python",
   "name": "python",
   "nbconvert_exporter": "python",
   "pygments_lexer": "ipython3",
   "version": "3.9.7"
  },
  "varInspector": {
   "cols": {
    "lenName": 16,
    "lenType": 16,
    "lenVar": 40
   },
   "kernels_config": {
    "python": {
     "delete_cmd_postfix": "",
     "delete_cmd_prefix": "del ",
     "library": "var_list.py",
     "varRefreshCmd": "print(var_dic_list())"
    },
    "r": {
     "delete_cmd_postfix": ") ",
     "delete_cmd_prefix": "rm(",
     "library": "var_list.r",
     "varRefreshCmd": "cat(var_dic_list()) "
    }
   },
   "types_to_exclude": [
    "module",
    "function",
    "builtin_function_or_method",
    "instance",
    "_Feature"
   ],
   "window_display": false
  }
 },
 "nbformat": 4,
 "nbformat_minor": 5
}
