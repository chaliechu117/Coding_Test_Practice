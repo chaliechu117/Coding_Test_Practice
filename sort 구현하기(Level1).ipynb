{
 "cells": [
  {
   "cell_type": "code",
   "execution_count": 29,
   "id": "9946f0c6",
   "metadata": {},
   "outputs": [],
   "source": [
    "array=[1, 5, 2, 6, 3, 7, 4]\n",
    "commands=[[2, 5, 3], [4, 4, 1], [1, 7, 3]]"
   ]
  },
  {
   "cell_type": "code",
   "execution_count": 74,
   "id": "5ea4d1a2",
   "metadata": {},
   "outputs": [
    {
     "name": "stdout",
     "output_type": "stream",
     "text": [
      "[5, 2]\n",
      "[5, 2, 6]\n",
      "[5, 2, 6, 3]\n",
      "------------------------------\n",
      "------------------------------\n",
      "[1, 5]\n",
      "[1, 5, 2]\n",
      "[1, 5, 2, 6]\n",
      "[1, 5, 2, 6, 3]\n",
      "[1, 5, 2, 6, 3, 7]\n",
      "[1, 5, 2, 6, 3, 7, 4]\n",
      "------------------------------\n"
     ]
    }
   ],
   "source": [
    "answer=[]\n",
    "for i in commands:\n",
    "    a = array[i[0]-1:i[1]]\n",
    "\n",
    "        \n",
    "    print('------------------------------')\n",
    "\n",
    "\n"
   ]
  },
  {
   "cell_type": "code",
   "execution_count": null,
   "id": "a6bb7d8e",
   "metadata": {},
   "outputs": [],
   "source": []
  },
  {
   "cell_type": "code",
   "execution_count": 79,
   "id": "5db34802",
   "metadata": {},
   "outputs": [
    {
     "name": "stdout",
     "output_type": "stream",
     "text": [
      "[2, 3, 5, 6]\n"
     ]
    }
   ],
   "source": [
    "a=[5,2,6,3]\n",
    "\n",
    "def sort_chu(a):\n",
    "    for i in range(len(a)):\n",
    "        for j in range(i+1,len(a)):\n",
    "            if a[i] > a[j]:\n",
    "                k=a[i]\n",
    "                a[i]=a[j]\n",
    "                a[j]=k\n",
    "    return a\n",
    "\n",
    "print(sort_chu(a))"
   ]
  },
  {
   "cell_type": "code",
   "execution_count": null,
   "id": "33700230",
   "metadata": {},
   "outputs": [],
   "source": []
  },
  {
   "cell_type": "code",
   "execution_count": 62,
   "id": "ca1390d3",
   "metadata": {},
   "outputs": [],
   "source": [
    "def solution(array, commands):\n",
    "    answer = []\n",
    "    for i in commands:\n",
    "        a = array[i[0]-1:i[1]]\n",
    "        a.sort()\n",
    "        answer.append(a[(i[2]-1)])\n",
    "    return answer"
   ]
  },
  {
   "cell_type": "code",
   "execution_count": 63,
   "id": "bea67166",
   "metadata": {},
   "outputs": [
    {
     "data": {
      "text/plain": [
       "[5, 6, 3]"
      ]
     },
     "execution_count": 63,
     "metadata": {},
     "output_type": "execute_result"
    }
   ],
   "source": [
    "solution(array,commands)"
   ]
  },
  {
   "cell_type": "code",
   "execution_count": null,
   "id": "a59dc2b0",
   "metadata": {},
   "outputs": [],
   "source": [
    "def solution(array, commands):\n",
    "    answer = []\n",
    "    for i in commands:\n",
    "        a = array[i[0]-1:i[1]]\n",
    "        \n",
    "        \n",
    "        \n",
    "        answer.append(a[(i[2]-1)])\n",
    "    return answer"
   ]
  },
  {
   "cell_type": "code",
   "execution_count": null,
   "id": "f9997df7",
   "metadata": {},
   "outputs": [],
   "source": []
  },
  {
   "cell_type": "code",
   "execution_count": 80,
   "id": "d8b65aa7",
   "metadata": {},
   "outputs": [],
   "source": [
    "def solution(array, commands):\n",
    "    answer = []\n",
    "    for i in commands:\n",
    "        a = array[i[0]-1:i[1]]\n",
    "        a = sort_chu(a)\n",
    "        answer.append(a[(i[2]-1)])\n",
    "    return answer\n",
    "\n",
    "\n",
    "def sort_chu(a):\n",
    "    for i in range(len(a)):\n",
    "        for j in range(i+1,len(a)):\n",
    "            if a[i] > a[j]:\n",
    "                k=a[i]\n",
    "                a[i]=a[j]\n",
    "                a[j]=k\n",
    "    return a"
   ]
  }
 ],
 "metadata": {
  "kernelspec": {
   "display_name": "Python 3 (ipykernel)",
   "language": "python",
   "name": "python3"
  },
  "language_info": {
   "codemirror_mode": {
    "name": "ipython",
    "version": 3
   },
   "file_extension": ".py",
   "mimetype": "text/x-python",
   "name": "python",
   "nbconvert_exporter": "python",
   "pygments_lexer": "ipython3",
   "version": "3.9.7"
  },
  "toc": {
   "base_numbering": 1,
   "nav_menu": {},
   "number_sections": true,
   "sideBar": true,
   "skip_h1_title": false,
   "title_cell": "Table of Contents",
   "title_sidebar": "Contents",
   "toc_cell": false,
   "toc_position": {},
   "toc_section_display": true,
   "toc_window_display": false
  }
 },
 "nbformat": 4,
 "nbformat_minor": 5
}
