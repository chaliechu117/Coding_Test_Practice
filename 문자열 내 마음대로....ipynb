{
 "cells": [
  {
   "cell_type": "code",
   "execution_count": 42,
   "id": "a83b5c89",
   "metadata": {},
   "outputs": [],
   "source": [
    "strings = [\"car\", \"bed\", \"sun\"]\n",
    "n = 1\n",
    "answer=[]"
   ]
  },
  {
   "cell_type": "code",
   "execution_count": 43,
   "id": "5b33b183",
   "metadata": {},
   "outputs": [],
   "source": [
    "tmp = [[s[n],s] for s in strings]"
   ]
  },
  {
   "cell_type": "code",
   "execution_count": 44,
   "id": "83ecade7",
   "metadata": {},
   "outputs": [
    {
     "data": {
      "text/plain": [
       "[['a', 'car'], ['e', 'bed'], ['u', 'sun']]"
      ]
     },
     "execution_count": 44,
     "metadata": {},
     "output_type": "execute_result"
    }
   ],
   "source": [
    "tmp"
   ]
  },
  {
   "cell_type": "code",
   "execution_count": 45,
   "id": "8b64afc0",
   "metadata": {},
   "outputs": [],
   "source": [
    "tmp = sorted(tmp)"
   ]
  },
  {
   "cell_type": "code",
   "execution_count": 46,
   "id": "970db929",
   "metadata": {},
   "outputs": [
    {
     "data": {
      "text/plain": [
       "['car', 'bed', 'sun']"
      ]
     },
     "execution_count": 46,
     "metadata": {},
     "output_type": "execute_result"
    }
   ],
   "source": [
    "answer = [t[1] for t in tmp]\n",
    "answer"
   ]
  },
  {
   "cell_type": "code",
   "execution_count": null,
   "id": "13019aa6",
   "metadata": {},
   "outputs": [],
   "source": []
  }
 ],
 "metadata": {
  "kernelspec": {
   "display_name": "Python 3 (ipykernel)",
   "language": "python",
   "name": "python3"
  },
  "language_info": {
   "codemirror_mode": {
    "name": "ipython",
    "version": 3
   },
   "file_extension": ".py",
   "mimetype": "text/x-python",
   "name": "python",
   "nbconvert_exporter": "python",
   "pygments_lexer": "ipython3",
   "version": "3.9.7"
  },
  "varInspector": {
   "cols": {
    "lenName": 16,
    "lenType": 16,
    "lenVar": 40
   },
   "kernels_config": {
    "python": {
     "delete_cmd_postfix": "",
     "delete_cmd_prefix": "del ",
     "library": "var_list.py",
     "varRefreshCmd": "print(var_dic_list())"
    },
    "r": {
     "delete_cmd_postfix": ") ",
     "delete_cmd_prefix": "rm(",
     "library": "var_list.r",
     "varRefreshCmd": "cat(var_dic_list()) "
    }
   },
   "types_to_exclude": [
    "module",
    "function",
    "builtin_function_or_method",
    "instance",
    "_Feature"
   ],
   "window_display": false
  }
 },
 "nbformat": 4,
 "nbformat_minor": 5
}
