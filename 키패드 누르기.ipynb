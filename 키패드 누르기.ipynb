{
 "cells": [
  {
   "cell_type": "code",
   "execution_count": 27,
   "id": "f79afa6c",
   "metadata": {},
   "outputs": [],
   "source": [
    "numbers = [1, 3, 4, 5, 8, 2, 1, 4, 5, 9, 5]\n",
    "hand = 'right'"
   ]
  },
  {
   "cell_type": "code",
   "execution_count": 29,
   "id": "cd1587ae",
   "metadata": {},
   "outputs": [],
   "source": [
    "# 키패드 만들기\n",
    "keypad = {1:\"L\",4:\"L\",7:\"L\",\"*\":\"L\",3:\"R\",6:\"R\",9:\"R\",\"#\":\"R\"}\n",
    "numpad={1:[1,1],2:[1,2],3:[1,3],4:[2,1],5:[2,2],6:[2,3],7:[3,1],8:[3,2],9:[3,3],0:[4,2]}\n",
    "first_middle = [2,5,8,0]"
   ]
  },
  {
   "cell_type": "code",
   "execution_count": 30,
   "id": "198b5c88",
   "metadata": {},
   "outputs": [],
   "source": [
    "result = []\n",
    "left_loc = []\n",
    "right_loc = []"
   ]
  },
  {
   "cell_type": "code",
   "execution_count": 31,
   "id": "370a289f",
   "metadata": {},
   "outputs": [],
   "source": [
    "def man(a,b):\n",
    "    distance=0\n",
    "    for i in range(2):\n",
    "        distance += abs(a[i]-b[i])\n",
    "    return distance"
   ]
  },
  {
   "cell_type": "code",
   "execution_count": 32,
   "id": "d4ffeeba",
   "metadata": {},
   "outputs": [],
   "source": [
    "#처음숫자부터 중간일 경우\n",
    "cnt = 0\n",
    "for i in numbers:\n",
    "    if i in first_middle:\n",
    "        if hand == \"right\":\n",
    "            result.append(\"R\")\n",
    "            right_loc.append(i)\n",
    "        else:\n",
    "            result.append(\"L\")\n",
    "            left_loc.append(i)\n",
    "        cnt += 1\n",
    "    else:\n",
    "        break\n",
    "\n",
    "# 중간이 연속적으로 나오지 않거나, 처음부터 중간이 아닌 숫자일 경우\n",
    "for i in numbers[cnt:]:\n",
    "    if i in keypad:\n",
    "        result.append(keypad[i])\n",
    "        if keypad[i] ==\"R\":\n",
    "            right_loc.append(i)\n",
    "        else:\n",
    "            left_loc.append(i)\n",
    "    else:\n",
    "        if man(numpad[right_loc[-1]],numpad[i]) > man(numpad[left_loc[-1]],numpad[i]):\n",
    "            result.append(\"L\")\n",
    "            left_loc.append(i)\n",
    "        elif man(numpad[right_loc[-1]],numpad[i]) < man(numpad[left_loc[-1]],numpad[i]):\n",
    "            result.append(\"R\")\n",
    "            right_loc.append(i)\n",
    "        else:\n",
    "            if hand=='right':\n",
    "                result.append('R')\n",
    "                right_loc.append(i)\n",
    "            else:\n",
    "                result.append('L')\n",
    "                left_loc.append(i)\n",
    "    \n",
    "        "
   ]
  },
  {
   "cell_type": "code",
   "execution_count": 35,
   "id": "ce26f6dc",
   "metadata": {},
   "outputs": [
    {
     "data": {
      "text/plain": [
       "'LRLLLRLLRRL'"
      ]
     },
     "execution_count": 35,
     "metadata": {},
     "output_type": "execute_result"
    }
   ],
   "source": [
    "\"\".join(result)"
   ]
  },
  {
   "cell_type": "code",
   "execution_count": 26,
   "id": "72c0c886",
   "metadata": {},
   "outputs": [
    {
     "data": {
      "text/plain": [
       "[3, 3]"
      ]
     },
     "execution_count": 26,
     "metadata": {},
     "output_type": "execute_result"
    }
   ],
   "source": [
    "numpad[right_loc[-1]]"
   ]
  },
  {
   "cell_type": "code",
   "execution_count": 55,
   "id": "99ddcd64",
   "metadata": {},
   "outputs": [],
   "source": [
    "numbers = [7, 0, 8, 2, 8, 3, 1, 5, 7, 6, 2]\n",
    "hand =  \"left\""
   ]
  },
  {
   "cell_type": "code",
   "execution_count": 56,
   "id": "54321f6d",
   "metadata": {},
   "outputs": [],
   "source": [
    "def man(a,b):\n",
    "    distance=0\n",
    "    for i in range(2):\n",
    "        distance += abs(a[i]-b[i])\n",
    "    return distance\n",
    "\n",
    "def solution(numbers, hand):\n",
    "    # 규칙 만들기\n",
    "    keypad = {1:\"L\",4:\"L\",7:\"L\",\"*\":\"L\",3:\"R\",6:\"R\",9:\"R\",\"#\":\"R\"}\n",
    "    numpad={1:[1,1],2:[1,2],3:[1,3],4:[2,1],5:[2,2],6:[2,3],7:[3,1],8:[3,2],9:[3,3],0:[4,2],\"*\":[4,1],\"#\":[4,3]}\n",
    "    first_middle = [2,5,8,0]\n",
    "    \n",
    "    #리스트 만들기\n",
    "    result = []\n",
    "    left_loc = [\"*\"]\n",
    "    right_loc = [\"#\"]\n",
    "    \n",
    "    #처음숫자부터 중간일 경우\n",
    "    cnt = 0\n",
    "    for i in numbers:\n",
    "        if i in first_middle:\n",
    "            if hand == \"right\":\n",
    "                result.append(\"R\")\n",
    "                right_loc.append(i)\n",
    "            else:\n",
    "                result.append(\"L\")\n",
    "                left_loc.append(i)\n",
    "            cnt += 1\n",
    "        else:\n",
    "            break\n",
    "\n",
    "    # 중간이 연속적으로 나오지 않거나, 처음부터 중간이 아닌 숫자일 경우\n",
    "    for i in numbers[cnt:]:\n",
    "        if i in keypad:\n",
    "            result.append(keypad[i])\n",
    "            if keypad[i] ==\"R\":\n",
    "                right_loc.append(i)\n",
    "            else:\n",
    "                left_loc.append(i)\n",
    "        else:\n",
    "            if man(numpad[right_loc[-1]],numpad[i]) > man(numpad[left_loc[-1]],numpad[i]):\n",
    "                result.append(\"L\")\n",
    "                left_loc.append(i)\n",
    "            elif man(numpad[right_loc[-1]],numpad[i]) < man(numpad[left_loc[-1]],numpad[i]):\n",
    "                result.append(\"R\")\n",
    "                right_loc.append(i)\n",
    "            else:\n",
    "                if hand=='right':\n",
    "                    result.append('R')\n",
    "                    right_loc.append(i)\n",
    "                else:\n",
    "                    result.append('L')\n",
    "                    left_loc.append(i)\n",
    "    return \"\".join(result)"
   ]
  },
  {
   "cell_type": "code",
   "execution_count": 57,
   "id": "3973527e",
   "metadata": {},
   "outputs": [
    {
     "name": "stdout",
     "output_type": "stream",
     "text": [
      "엥?\n",
      "엥?\n",
      "엥?\n",
      "엥?\n",
      "엥?\n",
      "엥?\n",
      "엥?\n",
      "엥?\n",
      "엥?\n",
      "엥?\n",
      "엥?\n"
     ]
    },
    {
     "data": {
      "text/plain": [
       "'LRLLRRLLLRR'"
      ]
     },
     "execution_count": 57,
     "metadata": {},
     "output_type": "execute_result"
    }
   ],
   "source": [
    "solution(numbers, hand)"
   ]
  },
  {
   "cell_type": "code",
   "execution_count": null,
   "id": "977e1d40",
   "metadata": {},
   "outputs": [],
   "source": []
  }
 ],
 "metadata": {
  "kernelspec": {
   "display_name": "Python 3 (ipykernel)",
   "language": "python",
   "name": "python3"
  },
  "language_info": {
   "codemirror_mode": {
    "name": "ipython",
    "version": 3
   },
   "file_extension": ".py",
   "mimetype": "text/x-python",
   "name": "python",
   "nbconvert_exporter": "python",
   "pygments_lexer": "ipython3",
   "version": "3.9.7"
  },
  "varInspector": {
   "cols": {
    "lenName": 16,
    "lenType": 16,
    "lenVar": 40
   },
   "kernels_config": {
    "python": {
     "delete_cmd_postfix": "",
     "delete_cmd_prefix": "del ",
     "library": "var_list.py",
     "varRefreshCmd": "print(var_dic_list())"
    },
    "r": {
     "delete_cmd_postfix": ") ",
     "delete_cmd_prefix": "rm(",
     "library": "var_list.r",
     "varRefreshCmd": "cat(var_dic_list()) "
    }
   },
   "types_to_exclude": [
    "module",
    "function",
    "builtin_function_or_method",
    "instance",
    "_Feature"
   ],
   "window_display": false
  }
 },
 "nbformat": 4,
 "nbformat_minor": 5
}
