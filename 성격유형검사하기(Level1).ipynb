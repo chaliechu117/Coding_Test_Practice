{
 "cells": [
  {
   "cell_type": "code",
   "execution_count": 20,
   "id": "b858fd61",
   "metadata": {},
   "outputs": [],
   "source": [
    "survey = [\"AN\", \"CF\", \"MJ\", \"RT\", \"NA\"]\n",
    "choices = [5, 3, 2, 7, 5]\n",
    "answer=\"\""
   ]
  },
  {
   "cell_type": "code",
   "execution_count": 21,
   "id": "bc5421eb",
   "metadata": {},
   "outputs": [],
   "source": [
    "# x=A, y=N c=5\n",
    "def rule(x,y,c,type_dict):\n",
    "    \n",
    "    if c < 4:\n",
    "        type_dict[x] -= (c - 4)\n",
    "    elif c > 4:\n",
    "        type_dict[y] += (c - 4)\n",
    "    \n",
    "    return type_dict"
   ]
  },
  {
   "cell_type": "code",
   "execution_count": 22,
   "id": "c9e1dd37",
   "metadata": {},
   "outputs": [],
   "source": [
    "# 성격에 대한 딕셔너리 만들기\n",
    "type_dict = {i:0 for i in [\"R\",\"T\",\"C\",\"F\",\"J\",\"M\",\"A\",\"N\"]}\n",
    "\n",
    "for i in range(len(survey)):\n",
    "    \n",
    "    s = survey[i]\n",
    "    x = list(s)[0]\n",
    "    y = list(s)[1]\n",
    "    c = choices[i]\n",
    "    type_dict = rule(x,y,c,type_dict)"
   ]
  },
  {
   "cell_type": "code",
   "execution_count": 23,
   "id": "c7ddb54a",
   "metadata": {},
   "outputs": [],
   "source": [
    "if type_dict['R'] >= type_dict[\"T\"]:\n",
    "    answer += 'R'\n",
    "else:\n",
    "    answer += 'T'\n",
    "    \n",
    "if type_dict['C'] >= type_dict[\"F\"]:\n",
    "    answer += 'C'\n",
    "else:\n",
    "    answer += 'F'\n",
    "\n",
    "if type_dict['J'] >= type_dict[\"M\"]:\n",
    "    answer += 'J'\n",
    "else:\n",
    "    answer += 'M'\n",
    "    \n",
    "if type_dict['A'] >= type_dict[\"N\"]:\n",
    "    answer += 'A'\n",
    "else:\n",
    "    answer += 'N'"
   ]
  },
  {
   "cell_type": "code",
   "execution_count": 24,
   "id": "ab7d51c0",
   "metadata": {},
   "outputs": [
    {
     "data": {
      "text/plain": [
       "'TCMA'"
      ]
     },
     "execution_count": 24,
     "metadata": {},
     "output_type": "execute_result"
    }
   ],
   "source": [
    "answer"
   ]
  },
  {
   "cell_type": "code",
   "execution_count": null,
   "id": "22abb4a9",
   "metadata": {},
   "outputs": [],
   "source": []
  }
 ],
 "metadata": {
  "kernelspec": {
   "display_name": "Python 3 (ipykernel)",
   "language": "python",
   "name": "python3"
  },
  "language_info": {
   "codemirror_mode": {
    "name": "ipython",
    "version": 3
   },
   "file_extension": ".py",
   "mimetype": "text/x-python",
   "name": "python",
   "nbconvert_exporter": "python",
   "pygments_lexer": "ipython3",
   "version": "3.9.7"
  },
  "varInspector": {
   "cols": {
    "lenName": 16,
    "lenType": 16,
    "lenVar": 40
   },
   "kernels_config": {
    "python": {
     "delete_cmd_postfix": "",
     "delete_cmd_prefix": "del ",
     "library": "var_list.py",
     "varRefreshCmd": "print(var_dic_list())"
    },
    "r": {
     "delete_cmd_postfix": ") ",
     "delete_cmd_prefix": "rm(",
     "library": "var_list.r",
     "varRefreshCmd": "cat(var_dic_list()) "
    }
   },
   "types_to_exclude": [
    "module",
    "function",
    "builtin_function_or_method",
    "instance",
    "_Feature"
   ],
   "window_display": false
  }
 },
 "nbformat": 4,
 "nbformat_minor": 5
}
