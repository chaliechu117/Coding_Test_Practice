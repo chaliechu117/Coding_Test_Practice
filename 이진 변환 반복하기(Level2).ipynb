{
 "cells": [
  {
   "cell_type": "code",
   "execution_count": 22,
   "id": "856941fe",
   "metadata": {},
   "outputs": [],
   "source": [
    "def solution(s):\n",
    "    zeros = 0\n",
    "    cnt = 0\n",
    "    while s != \"1\":\n",
    "        zeros += s.count(\"0\")\n",
    "        c = len(s.replace(\"0\",\"\"))\n",
    "        s = bin(c).split(\"b\")[1]\n",
    "        cnt += 1\n",
    "    return [cnt, zeros]"
   ]
  },
  {
   "cell_type": "code",
   "execution_count": 21,
   "id": "40769bbf",
   "metadata": {},
   "outputs": [
    {
     "data": {
      "text/plain": [
       "[3, 8]"
      ]
     },
     "execution_count": 21,
     "metadata": {},
     "output_type": "execute_result"
    }
   ],
   "source": [
    "s = \"110010101001\"\n",
    "\n",
    "zeros = 0\n",
    "cnt = 0\n",
    "while s != \"1\":\n",
    "    zeros += s.count(\"0\")\n",
    "    c = len(s.replace(\"0\",\"\"))\n",
    "    s = bin(c).split(\"b\")[1]\n",
    "    cnt += 1\n",
    "[cnt, zeros]"
   ]
  },
  {
   "cell_type": "code",
   "execution_count": 20,
   "id": "a521e39a",
   "metadata": {},
   "outputs": [
    {
     "data": {
      "text/plain": [
       "(8, 3)"
      ]
     },
     "execution_count": 20,
     "metadata": {},
     "output_type": "execute_result"
    }
   ],
   "source": [
    "zeros, cnt"
   ]
  },
  {
   "cell_type": "code",
   "execution_count": 17,
   "id": "2ce69307",
   "metadata": {},
   "outputs": [
    {
     "data": {
      "text/plain": [
       "'110'"
      ]
     },
     "execution_count": 17,
     "metadata": {},
     "output_type": "execute_result"
    }
   ],
   "source": [
    "b.split(\"b\")[1]"
   ]
  },
  {
   "cell_type": "code",
   "execution_count": 15,
   "id": "3e78fc30",
   "metadata": {},
   "outputs": [
    {
     "data": {
      "text/plain": [
       "str"
      ]
     },
     "execution_count": 15,
     "metadata": {},
     "output_type": "execute_result"
    }
   ],
   "source": [
    "type(b)"
   ]
  },
  {
   "cell_type": "code",
   "execution_count": null,
   "id": "39c90ee3",
   "metadata": {},
   "outputs": [],
   "source": []
  }
 ],
 "metadata": {
  "kernelspec": {
   "display_name": "Python 3 (ipykernel)",
   "language": "python",
   "name": "python3"
  },
  "language_info": {
   "codemirror_mode": {
    "name": "ipython",
    "version": 3
   },
   "file_extension": ".py",
   "mimetype": "text/x-python",
   "name": "python",
   "nbconvert_exporter": "python",
   "pygments_lexer": "ipython3",
   "version": "3.9.7"
  },
  "varInspector": {
   "cols": {
    "lenName": 16,
    "lenType": 16,
    "lenVar": 40
   },
   "kernels_config": {
    "python": {
     "delete_cmd_postfix": "",
     "delete_cmd_prefix": "del ",
     "library": "var_list.py",
     "varRefreshCmd": "print(var_dic_list())"
    },
    "r": {
     "delete_cmd_postfix": ") ",
     "delete_cmd_prefix": "rm(",
     "library": "var_list.r",
     "varRefreshCmd": "cat(var_dic_list()) "
    }
   },
   "types_to_exclude": [
    "module",
    "function",
    "builtin_function_or_method",
    "instance",
    "_Feature"
   ],
   "window_display": false
  }
 },
 "nbformat": 4,
 "nbformat_minor": 5
}
