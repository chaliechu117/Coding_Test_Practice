{
 "cells": [
  {
   "cell_type": "code",
   "execution_count": 24,
   "id": "6361ea34",
   "metadata": {},
   "outputs": [
    {
     "name": "stdout",
     "output_type": "stream",
     "text": [
      "False\n"
     ]
    }
   ],
   "source": [
    "import re\n",
    "\n",
    "s = \"a234\"\n",
    "if len(s) == 4 or len(s) == 6:\n",
    "    print(bool(re.match(r'[0-9]*4',s)))"
   ]
  },
  {
   "cell_type": "code",
   "execution_count": 25,
   "id": "2a73b337",
   "metadata": {},
   "outputs": [],
   "source": [
    "import re\n",
    "\n",
    "def solution(s):\n",
    "    if len(s) == 4 or len(s) == 6:\n",
    "        a = bool(re.match('[0-9]*4',s))\n",
    "        if a:\n",
    "            answer = 'true'\n",
    "        else:\n",
    "            answer = 'false'\n",
    "    return answer"
   ]
  },
  {
   "cell_type": "code",
   "execution_count": 26,
   "id": "925465de",
   "metadata": {},
   "outputs": [
    {
     "data": {
      "text/plain": [
       "'false'"
      ]
     },
     "execution_count": 26,
     "metadata": {},
     "output_type": "execute_result"
    }
   ],
   "source": [
    "solution(s)"
   ]
  },
  {
   "cell_type": "code",
   "execution_count": null,
   "id": "11dbcf59",
   "metadata": {},
   "outputs": [],
   "source": [
    "    return bool(re.match(\"^(\\d{4}|\\d{6})$\", s))"
   ]
  },
  {
   "cell_type": "code",
   "execution_count": 7,
   "id": "4280143f",
   "metadata": {},
   "outputs": [],
   "source": [
    "n=123\n",
    "answer=0\n",
    "for i in str(n):\n",
    "    answer += int(i)"
   ]
  },
  {
   "cell_type": "code",
   "execution_count": 8,
   "id": "081fa7df",
   "metadata": {},
   "outputs": [
    {
     "data": {
      "text/plain": [
       "6"
      ]
     },
     "execution_count": 8,
     "metadata": {},
     "output_type": "execute_result"
    }
   ],
   "source": [
    "answer\n",
    "(i+1)^2"
   ]
  },
  {
   "cell_type": "code",
   "execution_count": 22,
   "id": "9175cbf5",
   "metadata": {},
   "outputs": [],
   "source": [
    "n=1\n",
    "def solution(n):\n",
    "    for i in range(int(n/2)+1):\n",
    "        if i**2 == n:\n",
    "            return (i+1)**2\n",
    "        else:\n",
    "            continue\n",
    "    return -1"
   ]
  },
  {
   "cell_type": "code",
   "execution_count": 23,
   "id": "9c500354",
   "metadata": {},
   "outputs": [
    {
     "data": {
      "text/plain": [
       "-1"
      ]
     },
     "execution_count": 23,
     "metadata": {},
     "output_type": "execute_result"
    }
   ],
   "source": [
    "solution(1)"
   ]
  },
  {
   "cell_type": "code",
   "execution_count": 24,
   "id": "6c2cb4ef",
   "metadata": {},
   "outputs": [
    {
     "data": {
      "text/plain": [
       "'수박'"
      ]
     },
     "execution_count": 24,
     "metadata": {},
     "output_type": "execute_result"
    }
   ],
   "source": [
    "\"수\"+\"박\""
   ]
  },
  {
   "cell_type": "code",
   "execution_count": 27,
   "id": "d94c516f",
   "metadata": {},
   "outputs": [
    {
     "data": {
      "text/plain": [
       "'12345'"
      ]
     },
     "execution_count": 27,
     "metadata": {},
     "output_type": "execute_result"
    }
   ],
   "source": [
    "n=12345\n",
    "n=str(n)\n",
    "n"
   ]
  },
  {
   "cell_type": "code",
   "execution_count": 32,
   "id": "1936ac78",
   "metadata": {},
   "outputs": [
    {
     "name": "stdout",
     "output_type": "stream",
     "text": [
      "4\n",
      "3\n",
      "2\n",
      "1\n",
      "0\n"
     ]
    }
   ],
   "source": [
    "for i in range(len(n)-1,-1,-1):\n",
    "    print(i)"
   ]
  },
  {
   "cell_type": "code",
   "execution_count": 37,
   "id": "b6eef2ec",
   "metadata": {},
   "outputs": [],
   "source": [
    "import re\n",
    "p = re.compile('[pP|yY]')"
   ]
  },
  {
   "cell_type": "code",
   "execution_count": 43,
   "id": "de8bf53b",
   "metadata": {},
   "outputs": [
    {
     "name": "stdout",
     "output_type": "stream",
     "text": [
      "[]\n"
     ]
    }
   ],
   "source": [
    "print(re.findall('[yY]','pooP'))"
   ]
  },
  {
   "cell_type": "code",
   "execution_count": 44,
   "id": "25ebd9b2",
   "metadata": {},
   "outputs": [],
   "source": [
    "a= [\"8\",\"9\",\"7\",\"6\"]"
   ]
  },
  {
   "cell_type": "code",
   "execution_count": 52,
   "id": "9c319ad3",
   "metadata": {},
   "outputs": [],
   "source": [
    "a.sort(reverse=True)"
   ]
  },
  {
   "cell_type": "code",
   "execution_count": 53,
   "id": "1748e9d0",
   "metadata": {},
   "outputs": [
    {
     "data": {
      "text/plain": [
       "['9', '8', '7', '6']"
      ]
     },
     "execution_count": 53,
     "metadata": {},
     "output_type": "execute_result"
    }
   ],
   "source": [
    "a"
   ]
  },
  {
   "cell_type": "code",
   "execution_count": 75,
   "id": "c1cb277b",
   "metadata": {},
   "outputs": [],
   "source": [
    "n=118372\n",
    "def solution(n):\n",
    "    a=[]\n",
    "    for i in str(n):\n",
    "        a.append(str(i))\n",
    "    a.sort(reverse=True)\n",
    "    answer=''.join(a)\n",
    "    return int(answer)"
   ]
  },
  {
   "cell_type": "code",
   "execution_count": 76,
   "id": "e80d082d",
   "metadata": {},
   "outputs": [
    {
     "data": {
      "text/plain": [
       "873211"
      ]
     },
     "execution_count": 76,
     "metadata": {},
     "output_type": "execute_result"
    }
   ],
   "source": [
    "solution(n)"
   ]
  },
  {
   "cell_type": "code",
   "execution_count": null,
   "id": "f745d3ee",
   "metadata": {},
   "outputs": [],
   "source": []
  }
 ],
 "metadata": {
  "kernelspec": {
   "display_name": "Python 3 (ipykernel)",
   "language": "python",
   "name": "python3"
  },
  "language_info": {
   "codemirror_mode": {
    "name": "ipython",
    "version": 3
   },
   "file_extension": ".py",
   "mimetype": "text/x-python",
   "name": "python",
   "nbconvert_exporter": "python",
   "pygments_lexer": "ipython3",
   "version": "3.9.7"
  },
  "toc": {
   "base_numbering": 1,
   "nav_menu": {},
   "number_sections": true,
   "sideBar": true,
   "skip_h1_title": false,
   "title_cell": "Table of Contents",
   "title_sidebar": "Contents",
   "toc_cell": false,
   "toc_position": {},
   "toc_section_display": true,
   "toc_window_display": false
  },
  "varInspector": {
   "cols": {
    "lenName": 16,
    "lenType": 16,
    "lenVar": 40
   },
   "kernels_config": {
    "python": {
     "delete_cmd_postfix": "",
     "delete_cmd_prefix": "del ",
     "library": "var_list.py",
     "varRefreshCmd": "print(var_dic_list())"
    },
    "r": {
     "delete_cmd_postfix": ") ",
     "delete_cmd_prefix": "rm(",
     "library": "var_list.r",
     "varRefreshCmd": "cat(var_dic_list()) "
    }
   },
   "types_to_exclude": [
    "module",
    "function",
    "builtin_function_or_method",
    "instance",
    "_Feature"
   ],
   "window_display": false
  }
 },
 "nbformat": 4,
 "nbformat_minor": 5
}
