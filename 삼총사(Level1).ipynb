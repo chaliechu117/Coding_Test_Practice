{
 "cells": [
  {
   "cell_type": "code",
   "execution_count": 46,
   "id": "e8d18374",
   "metadata": {},
   "outputs": [],
   "source": [
    "number = [-2, 3, 0, 2, -5]\n",
    "sort_num = sorted(number)"
   ]
  },
  {
   "cell_type": "code",
   "execution_count": 47,
   "id": "cda4acbd",
   "metadata": {},
   "outputs": [],
   "source": [
    "from itertools import combinations\n",
    "p_list = list(combinations(sort_num,3))"
   ]
  },
  {
   "cell_type": "code",
   "execution_count": 48,
   "id": "f22032e0",
   "metadata": {},
   "outputs": [
    {
     "data": {
      "text/plain": [
       "[(-5, -2, 0),\n",
       " (-5, -2, 2),\n",
       " (-5, -2, 3),\n",
       " (-5, 0, 2),\n",
       " (-5, 0, 3),\n",
       " (-5, 2, 3),\n",
       " (-2, 0, 2),\n",
       " (-2, 0, 3),\n",
       " (-2, 2, 3),\n",
       " (0, 2, 3)]"
      ]
     },
     "execution_count": 48,
     "metadata": {},
     "output_type": "execute_result"
    }
   ],
   "source": [
    "p_list"
   ]
  },
  {
   "cell_type": "code",
   "execution_count": 24,
   "id": "7f708e02",
   "metadata": {},
   "outputs": [],
   "source": [
    "tmp = 0\n",
    "for p in p_list:\n",
    "    if sum(p) == 0:\n",
    "        tmp += 1"
   ]
  },
  {
   "cell_type": "code",
   "execution_count": 25,
   "id": "88253aa2",
   "metadata": {},
   "outputs": [
    {
     "data": {
      "text/plain": [
       "2"
      ]
     },
     "execution_count": 25,
     "metadata": {},
     "output_type": "execute_result"
    }
   ],
   "source": [
    "tmp"
   ]
  },
  {
   "cell_type": "markdown",
   "id": "775ee1d8",
   "metadata": {},
   "source": [
    "순열 코드를 구현해보자"
   ]
  },
  {
   "cell_type": "code",
   "execution_count": 27,
   "id": "51df6454",
   "metadata": {},
   "outputs": [
    {
     "data": {
      "text/plain": [
       "[-2, 3, 0, 2, -5]"
      ]
     },
     "execution_count": 27,
     "metadata": {},
     "output_type": "execute_result"
    }
   ],
   "source": [
    "number"
   ]
  },
  {
   "cell_type": "code",
   "execution_count": 28,
   "id": "55a3aa50",
   "metadata": {},
   "outputs": [
    {
     "data": {
      "text/plain": [
       "[-5, -2, 0, 2, 3]"
      ]
     },
     "execution_count": 28,
     "metadata": {},
     "output_type": "execute_result"
    }
   ],
   "source": [
    "sort_num"
   ]
  },
  {
   "cell_type": "code",
   "execution_count": 49,
   "id": "19216fbe",
   "metadata": {},
   "outputs": [
    {
     "name": "stdout",
     "output_type": "stream",
     "text": [
      "-5 에 관하여\n",
      "-2 에 관하여\n",
      "0 에 관하여\n"
     ]
    }
   ],
   "source": [
    "answer =0\n",
    "for i in range(len(sort_num)):\n",
    "    tmp=[0,0,0]\n",
    "    if len(sort_num[i+1:]) >= 2:\n",
    "        tmp[0] = sort_num[i]\n",
    "        print(sort_num[i],\"에 관하여\")\n",
    "        for j in range(i+1, len(sort_num)):\n",
    "            tmp[1] = sort_num[j]\n",
    "            for k in range(j+1, len(sort_num)):\n",
    "                tmp[2] = sort_num[k]\n",
    "                if sum(tmp) == 0:\n",
    "                    answer += 1"
   ]
  },
  {
   "cell_type": "code",
   "execution_count": 51,
   "id": "4109cda9",
   "metadata": {},
   "outputs": [
    {
     "data": {
      "text/plain": [
       "2"
      ]
     },
     "execution_count": 51,
     "metadata": {},
     "output_type": "execute_result"
    }
   ],
   "source": [
    "answer"
   ]
  },
  {
   "cell_type": "code",
   "execution_count": null,
   "id": "4bfed21b",
   "metadata": {},
   "outputs": [],
   "source": []
  }
 ],
 "metadata": {
  "kernelspec": {
   "display_name": "Python 3 (ipykernel)",
   "language": "python",
   "name": "python3"
  },
  "language_info": {
   "codemirror_mode": {
    "name": "ipython",
    "version": 3
   },
   "file_extension": ".py",
   "mimetype": "text/x-python",
   "name": "python",
   "nbconvert_exporter": "python",
   "pygments_lexer": "ipython3",
   "version": "3.9.7"
  },
  "varInspector": {
   "cols": {
    "lenName": 16,
    "lenType": 16,
    "lenVar": 40
   },
   "kernels_config": {
    "python": {
     "delete_cmd_postfix": "",
     "delete_cmd_prefix": "del ",
     "library": "var_list.py",
     "varRefreshCmd": "print(var_dic_list())"
    },
    "r": {
     "delete_cmd_postfix": ") ",
     "delete_cmd_prefix": "rm(",
     "library": "var_list.r",
     "varRefreshCmd": "cat(var_dic_list()) "
    }
   },
   "types_to_exclude": [
    "module",
    "function",
    "builtin_function_or_method",
    "instance",
    "_Feature"
   ],
   "window_display": false
  }
 },
 "nbformat": 4,
 "nbformat_minor": 5
}
